{
  "nbformat": 4,
  "nbformat_minor": 0,
  "metadata": {
    "colab": {
      "provenance": [],
      "gpuType": "T4",
      "mount_file_id": "1qMv20JYsgOBh5MR83zeJTpKZPf-jJukR",
      "authorship_tag": "ABX9TyOA6DAdjXBdNQgdfbZAwW+y",
      "include_colab_link": true
    },
    "kernelspec": {
      "name": "python3",
      "display_name": "Python 3"
    },
    "language_info": {
      "name": "python"
    },
    "accelerator": "GPU"
  },
  "cells": [
    {
      "cell_type": "markdown",
      "metadata": {
        "id": "view-in-github",
        "colab_type": "text"
      },
      "source": [
        "<a href=\"https://colab.research.google.com/github/RexGod/DataMining_Pgu_Nueral_Network/blob/main/finalDeepLearning.ipynb\" target=\"_parent\"><img src=\"https://colab.research.google.com/assets/colab-badge.svg\" alt=\"Open In Colab\"/></a>"
      ]
    },
    {
      "cell_type": "code",
      "execution_count": 8,
      "metadata": {
        "id": "qh3IUGzezLKD"
      },
      "outputs": [],
      "source": [
        "import tensorflow as tf"
      ]
    },
    {
      "cell_type": "code",
      "source": [
        "import pandas as pd\n",
        "import numpy as np\n",
        "import matplotlib.pyplot as plt\n",
        "import glob\n",
        "import cv2"
      ],
      "metadata": {
        "id": "mmf_PdG8zbAa"
      },
      "execution_count": 9,
      "outputs": []
    },
    {
      "cell_type": "code",
      "source": [
        "pathImages = '/content/drive/MyDrive/tits_pic'"
      ],
      "metadata": {
        "id": "xMAGTBKmzgwp"
      },
      "execution_count": 10,
      "outputs": []
    },
    {
      "cell_type": "code",
      "source": [
        "pathManual = '/content/drive/MyDrive/Radiology_manual_annotations.xlsx'\n",
        "manualRadio = pd.read_excel(pathManual)"
      ],
      "metadata": {
        "id": "XukXTj8xzkAk"
      },
      "execution_count": 11,
      "outputs": []
    },
    {
      "cell_type": "code",
      "source": [
        "manualRadio= manualRadio.rename(columns={'Pathology Classification/ Follow up':'classification'})"
      ],
      "metadata": {
        "id": "GVT0sX4Fzq2_"
      },
      "execution_count": 12,
      "outputs": []
    },
    {
      "cell_type": "code",
      "source": [
        "manualRadio = manualRadio[manualRadio['Type']=='CESM']"
      ],
      "metadata": {
        "id": "RVe6t1nyzruJ"
      },
      "execution_count": 13,
      "outputs": []
    },
    {
      "cell_type": "code",
      "source": [
        "import os\n",
        "images = os.listdir(pathImages)\n",
        "loaded_images = []\n",
        "#filename_txt = []\n",
        "for filename in images:\n",
        "    if filename.endswith('.jpg') or filename.endswith('.png'):\n",
        "        image_list = plt.imread(os.path.join(pathImages, filename))\n",
        "        loaded_images.append(image_list)\n",
        "        #filename_txt.append(filename)"
      ],
      "metadata": {
        "id": "WdUTN7Rbzte8"
      },
      "execution_count": 14,
      "outputs": []
    },
    {
      "cell_type": "code",
      "source": [
        "manualRadio = manualRadio.sort_values(by=['Image_name'])"
      ],
      "metadata": {
        "id": "eHHlacQGzyo-"
      },
      "execution_count": 15,
      "outputs": []
    },
    {
      "cell_type": "code",
      "source": [
        "validation_data_size = int(len(loaded_images)*0.12)\n",
        "test_data_size = int(len(loaded_images)*0.13)"
      ],
      "metadata": {
        "id": "gStMqu1bz-SG"
      },
      "execution_count": 16,
      "outputs": []
    },
    {
      "cell_type": "code",
      "source": [
        "random_select = np.random.choice(len(loaded_images), size=validation_data_size, replace=False)"
      ],
      "metadata": {
        "id": "re9sdiHf0LkW"
      },
      "execution_count": 17,
      "outputs": []
    },
    {
      "cell_type": "code",
      "source": [
        "validation_data_x = np.array(loaded_images)[random_select]\n",
        "validation_data_y = manualRadio.iloc[random_select]\n",
        "loaded_images = np.delete(loaded_images, random_select, axis=0)\n",
        "manualRadio=manualRadio.drop(manualRadio.index[random_select])"
      ],
      "metadata": {
        "id": "Z00Czxz70PBZ"
      },
      "execution_count": 18,
      "outputs": []
    },
    {
      "cell_type": "code",
      "source": [
        "random_select = np.random.choice(len(loaded_images), size=test_data_size, replace=False)"
      ],
      "metadata": {
        "id": "2wj17Av40Rkm"
      },
      "execution_count": 19,
      "outputs": []
    },
    {
      "cell_type": "code",
      "source": [
        "test_data_x = np.array(loaded_images)[random_select]\n",
        "test_data_y = manualRadio.iloc[random_select]\n",
        "loaded_images = np.delete(loaded_images, random_select, axis=0)\n",
        "manualRadio=manualRadio.drop(manualRadio.index[random_select])"
      ],
      "metadata": {
        "id": "OwrOHhip0Thr"
      },
      "execution_count": 20,
      "outputs": []
    },
    {
      "cell_type": "code",
      "source": [
        "train_data_x = np.array(loaded_images)\n",
        "train_data_y = manualRadio[[\"Image_name\" , \"classification\"]]"
      ],
      "metadata": {
        "id": "UKIn0P8v0Vhf"
      },
      "execution_count": 21,
      "outputs": []
    },
    {
      "cell_type": "code",
      "source": [
        "import tensorflow as tf\n",
        "import keras"
      ],
      "metadata": {
        "id": "VK7s_-Kp0dt8"
      },
      "execution_count": 22,
      "outputs": []
    },
    {
      "cell_type": "code",
      "source": [
        "label_mapping = {'Benign': 0, 'Normal': 1, 'Malignant': 2}"
      ],
      "metadata": {
        "id": "lR-PHU8g0s-L"
      },
      "execution_count": 23,
      "outputs": []
    },
    {
      "cell_type": "code",
      "source": [
        "integer_labels = train_data_y['classification'].map(label_mapping)\n",
        "integer_labels_valid = validation_data_y['classification'].map(label_mapping)\n",
        "y_train_to_categorical = keras.utils.to_categorical(integer_labels, num_classes=len(label_mapping), dtype='float32')\n",
        "y_validation_to_categorical = keras.utils.to_categorical(integer_labels_valid, num_classes=len(label_mapping), dtype='float32')"
      ],
      "metadata": {
        "id": "KQ3xmYDg0ux6"
      },
      "execution_count": 24,
      "outputs": []
    },
    {
      "cell_type": "code",
      "source": [
        "from tensorflow.keras.applications.resnet import ResNet101,ResNet152 , preprocess_input , decode_predictions"
      ],
      "metadata": {
        "id": "6r3B1Ehx00ox"
      },
      "execution_count": 25,
      "outputs": []
    },
    {
      "cell_type": "code",
      "source": [
        "train_images_rgb = np.repeat(train_data_x[..., np.newaxis], 3, -1)[..., 0]\n",
        "test_images_rgb = np.repeat(test_data_x[..., np.newaxis], 3, -1)\n",
        "validation_images_rgb = np.repeat(validation_data_x[..., np.newaxis], 3, -1)[..., 0]\n"
      ],
      "metadata": {
        "id": "HnX_v81W01mx"
      },
      "execution_count": 26,
      "outputs": []
    },
    {
      "cell_type": "code",
      "source": [
        "train_images_rgb = train_images_rgb/255\n",
        "preprocess_images_test = preprocess_input(test_images_rgb)\n",
        "validation_images_rgb = validation_images_rgb/255"
      ],
      "metadata": {
        "id": "9nUq9VXj1BaU"
      },
      "execution_count": 27,
      "outputs": []
    },
    {
      "cell_type": "code",
      "source": [
        "base_model = ResNet152(weights='imagenet', include_top=False, input_shape=(224, 224, 3))"
      ],
      "metadata": {
        "colab": {
          "base_uri": "https://localhost:8080/"
        },
        "id": "GDQd1cLp09Fs",
        "outputId": "9603cb26-dcc7-4adc-d18f-e590b473c073"
      },
      "execution_count": 28,
      "outputs": [
        {
          "output_type": "stream",
          "name": "stdout",
          "text": [
            "Downloading data from https://storage.googleapis.com/tensorflow/keras-applications/resnet/resnet152_weights_tf_dim_ordering_tf_kernels_notop.h5\n",
            "234698864/234698864 [==============================] - 13s 0us/step\n"
          ]
        }
      ]
    },
    {
      "cell_type": "code",
      "source": [
        "from tensorflow.keras.models import Sequential\n",
        "from tensorflow.keras.layers import Dense, GlobalAveragePooling2D , Conv2D , Flatten , Dropout , MaxPooling2D , BatchNormalization\n",
        "from keras import layers\n",
        "from tensorflow.keras.optimizers import Adam,Adamax\n"
      ],
      "metadata": {
        "id": "IkCoE1Gp1CXT"
      },
      "execution_count": 47,
      "outputs": []
    },
    {
      "cell_type": "code",
      "source": [
        "model = Sequential()"
      ],
      "metadata": {
        "id": "VSKTpjdh1FBY"
      },
      "execution_count": 48,
      "outputs": []
    },
    {
      "cell_type": "code",
      "source": [
        "model.add(base_model)\n"
      ],
      "metadata": {
        "id": "Z6ESx_Ug1GhK"
      },
      "execution_count": 49,
      "outputs": []
    },
    {
      "cell_type": "code",
      "source": [
        "for layer in base_model.layers[:150]:\n",
        "    layer.trainable = False\n",
        "for layer in base_model.layers[150:]:\n",
        "    layer.trainable = True"
      ],
      "metadata": {
        "id": "2cX7n2Hx1Idc"
      },
      "execution_count": 50,
      "outputs": []
    },
    {
      "cell_type": "code",
      "source": [
        "model.add(Conv2D(64, kernel_size=(3, 3), activation='relu'))\n",
        "model.add(Flatten())\n",
        "model.add(Dense(256 , activation='relu'))\n",
        "model.add(Dense(128 , activation='relu'))\n",
        "model.add(layers.Dropout(0.2))\n",
        "model.add(Dense(64 , activation='relu'))\n",
        "model.add(layers.Dropout(0.3))\n",
        "model.add(Dense(3,activation = 'softmax'))"
      ],
      "metadata": {
        "id": "CQ0k2El91Kyr"
      },
      "execution_count": 51,
      "outputs": []
    },
    {
      "cell_type": "code",
      "source": [
        "model.compile(optimizer=Adam(learning_rate=0.0002), loss='categorical_crossentropy', metrics=['accuracy'])"
      ],
      "metadata": {
        "id": "zmXWzLLl1MYO"
      },
      "execution_count": 52,
      "outputs": []
    },
    {
      "cell_type": "code",
      "source": [
        "from tensorflow.keras.callbacks import EarlyStopping"
      ],
      "metadata": {
        "id": "9-wn8emz1Oyq"
      },
      "execution_count": 53,
      "outputs": []
    },
    {
      "cell_type": "code",
      "source": [
        "early_stopping = EarlyStopping(monitor='val_loss', patience=5, verbose=1, restore_best_weights=True)"
      ],
      "metadata": {
        "id": "PNRM0yc71QsN"
      },
      "execution_count": 54,
      "outputs": []
    },
    {
      "cell_type": "code",
      "source": [
        "nemudar = model.fit(train_images_rgb, y_train_to_categorical,\n",
        "                    validation_data=(validation_images_rgb, y_validation_to_categorical),\n",
        "                    epochs=30,\n",
        "                    callbacks = [early_stopping]\n",
        "                    )\n"
      ],
      "metadata": {
        "colab": {
          "base_uri": "https://localhost:8080/"
        },
        "id": "OHViUbZk1Sdp",
        "outputId": "4caba878-baaf-4918-ff46-1d3863d66f8f"
      },
      "execution_count": null,
      "outputs": [
        {
          "output_type": "stream",
          "name": "stdout",
          "text": [
            "Epoch 1/30\n"
          ]
        }
      ]
    }
  ]
}