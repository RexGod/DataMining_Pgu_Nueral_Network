{
  "nbformat": 4,
  "nbformat_minor": 0,
  "metadata": {
    "colab": {
      "provenance": [],
      "gpuType": "T4",
      "authorship_tag": "ABX9TyNt0dIyI1rLvaCpr9z//uvI",
      "include_colab_link": true
    },
    "kernelspec": {
      "name": "python3",
      "display_name": "Python 3"
    },
    "language_info": {
      "name": "python"
    },
    "accelerator": "GPU"
  },
  "cells": [
    {
      "cell_type": "markdown",
      "metadata": {
        "id": "view-in-github",
        "colab_type": "text"
      },
      "source": [
        "<a href=\"https://colab.research.google.com/github/RexGod/Training-cifar10-dataset-by-fully-connected-nueral_Network/blob/main/ex5_py.ipynb\" target=\"_parent\"><img src=\"https://colab.research.google.com/assets/colab-badge.svg\" alt=\"Open In Colab\"/></a>"
      ]
    },
    {
      "cell_type": "markdown",
      "source": [
        "Import Section"
      ],
      "metadata": {
        "id": "IjWWZlaeljhj"
      }
    },
    {
      "cell_type": "code",
      "execution_count": 14,
      "metadata": {
        "id": "G4SDfWUb_i9x"
      },
      "outputs": [],
      "source": [
        "import tensorflow as tf\n",
        "from tensorflow import keras\n",
        "from keras import datasets,models,layers\n",
        "import matplotlib.pyplot as plt\n",
        "import numpy as np"
      ]
    },
    {
      "cell_type": "markdown",
      "source": [
        "Load cifar10 Data"
      ],
      "metadata": {
        "id": "yHWNRXfVlqkh"
      }
    },
    {
      "cell_type": "code",
      "source": [
        "(x_train, y_train), (x_test, y_test) = tf.keras.datasets.cifar10.load_data()"
      ],
      "metadata": {
        "id": "oHtR1m9a3SxE"
      },
      "execution_count": 15,
      "outputs": []
    },
    {
      "cell_type": "code",
      "source": [
        "#y_train[0] #array([6], dtype=uint8)\n",
        "#y_train[1] array([9], dtype=uint8)\n",
        "y_train[2] #array([9], dtype=uint8)\n",
        "# return an integer number betweeen 0-9 reference to class"
      ],
      "metadata": {
        "colab": {
          "base_uri": "https://localhost:8080/"
        },
        "id": "Drz6ai6QHMRg",
        "outputId": "563e04f4-8fbf-4719-c10f-3269c2bdba32"
      },
      "execution_count": 16,
      "outputs": [
        {
          "output_type": "execute_result",
          "data": {
            "text/plain": [
              "array([9], dtype=uint8)"
            ]
          },
          "metadata": {},
          "execution_count": 16
        }
      ]
    },
    {
      "cell_type": "markdown",
      "source": [
        "reference : https://github.com/codebasics/py/blob/master/DeepLearningML/10_gpu_benchmarking/gpu_performance_test_small_image_classification.ipynb"
      ],
      "metadata": {
        "id": "LKzScIVhHnAT"
      }
    },
    {
      "cell_type": "code",
      "source": [
        "''' def plot_sample(index):\n",
        "    plt.figure(figsize = (10,1))\n",
        "    plt.imshow(x_train[index]) '''\n",
        "#plot_sample(0) this was ghorbaghe   \n",
        "#plot_sample(1) this was truck\n",
        "#plot_sample(2) #truck"
      ],
      "metadata": {
        "colab": {
          "base_uri": "https://localhost:8080/",
          "height": 36
        },
        "id": "i2HpKkfMHVed",
        "outputId": "19c6e02f-5d44-4b47-dbdb-5079a90b492d"
      },
      "execution_count": 17,
      "outputs": [
        {
          "output_type": "execute_result",
          "data": {
            "text/plain": [
              "' def plot_sample(index):\\n    plt.figure(figsize = (10,1))\\n    plt.imshow(x_train[index]) '"
            ],
            "application/vnd.google.colaboratory.intrinsic+json": {
              "type": "string"
            }
          },
          "metadata": {},
          "execution_count": 17
        }
      ]
    },
    {
      "cell_type": "code",
      "source": [
        "x_train.shape\n",
        "#x_test.shape\n",
        "x_train[0] # pixele ye adadie bein 0 ta 255"
      ],
      "metadata": {
        "colab": {
          "base_uri": "https://localhost:8080/"
        },
        "id": "h5yo-GNY-_Nn",
        "outputId": "78f925c9-1b3e-4bf8-bef8-950a75252ee7"
      },
      "execution_count": 18,
      "outputs": [
        {
          "output_type": "execute_result",
          "data": {
            "text/plain": [
              "array([[[ 59,  62,  63],\n",
              "        [ 43,  46,  45],\n",
              "        [ 50,  48,  43],\n",
              "        ...,\n",
              "        [158, 132, 108],\n",
              "        [152, 125, 102],\n",
              "        [148, 124, 103]],\n",
              "\n",
              "       [[ 16,  20,  20],\n",
              "        [  0,   0,   0],\n",
              "        [ 18,   8,   0],\n",
              "        ...,\n",
              "        [123,  88,  55],\n",
              "        [119,  83,  50],\n",
              "        [122,  87,  57]],\n",
              "\n",
              "       [[ 25,  24,  21],\n",
              "        [ 16,   7,   0],\n",
              "        [ 49,  27,   8],\n",
              "        ...,\n",
              "        [118,  84,  50],\n",
              "        [120,  84,  50],\n",
              "        [109,  73,  42]],\n",
              "\n",
              "       ...,\n",
              "\n",
              "       [[208, 170,  96],\n",
              "        [201, 153,  34],\n",
              "        [198, 161,  26],\n",
              "        ...,\n",
              "        [160, 133,  70],\n",
              "        [ 56,  31,   7],\n",
              "        [ 53,  34,  20]],\n",
              "\n",
              "       [[180, 139,  96],\n",
              "        [173, 123,  42],\n",
              "        [186, 144,  30],\n",
              "        ...,\n",
              "        [184, 148,  94],\n",
              "        [ 97,  62,  34],\n",
              "        [ 83,  53,  34]],\n",
              "\n",
              "       [[177, 144, 116],\n",
              "        [168, 129,  94],\n",
              "        [179, 142,  87],\n",
              "        ...,\n",
              "        [216, 184, 140],\n",
              "        [151, 118,  84],\n",
              "        [123,  92,  72]]], dtype=uint8)"
            ]
          },
          "metadata": {},
          "execution_count": 18
        }
      ]
    },
    {
      "cell_type": "code",
      "source": [
        "x_train = x_train / 255 # normalize mikonim inja ham vase data haye test ham vse train\n",
        "x_test = x_test / 255"
      ],
      "metadata": {
        "id": "1SDzG6y_qICv"
      },
      "execution_count": 19,
      "outputs": []
    },
    {
      "cell_type": "code",
      "source": [
        "classes = ['airplanes', 'cars', 'birds', 'cats', 'deer', 'dogs', 'frogs', 'horses', 'ships','trucks']"
      ],
      "metadata": {
        "id": "i7WA1S4sFGei"
      },
      "execution_count": 20,
      "outputs": []
    },
    {
      "cell_type": "code",
      "source": [
        "y_train_to_categorical = keras.utils.to_categorical(\n",
        "    y_train, num_classes=len(classes), dtype='float32'\n",
        ")\n",
        "y_test_to_categorical = keras.utils.to_categorical(\n",
        "    y_test, num_classes=len(classes), dtype='float32'\n",
        ")"
      ],
      "metadata": {
        "id": "jeJGEM3bpwmV"
      },
      "execution_count": 21,
      "outputs": []
    },
    {
      "cell_type": "code",
      "source": [
        "network = models.Sequential()\n",
        "#x_inputs=network.add(layers.Flatten(input_shape=(32, 32))) \n",
        "network.add(layers.Flatten())"
      ],
      "metadata": {
        "id": "kVhSGgBlAbFP"
      },
      "execution_count": 22,
      "outputs": []
    },
    {
      "cell_type": "code",
      "source": [
        "network.add(layers.Dense(1, input_shape=(32, 32, 3))) # input_layer\n",
        "network.add(layers.Dense(512,activation='ELU')) #hidden_layer1\n",
        "network.add(layers.Dense(256,activation='relu')) #hidden_layer2\n",
        "network.add(layers.Dense(128, activation='relu')) #hidden_layer3\n",
        "network.add(layers.Dense(64, activation='relu')) #hidden_layer4\n",
        "network.add(layers.Dense(32, activation='relu')) #hidden_layer5\n",
        "network.add(layers.Dense(len(classes), activation='softmax'))  #output_layer\n"
      ],
      "metadata": {
        "id": "-rLBPPENHVxW"
      },
      "execution_count": 23,
      "outputs": []
    },
    {
      "cell_type": "code",
      "source": [
        "network.compile(optimizer='SGD',\n",
        "              loss='categorical_crossentropy',\n",
        "              metrics=['accuracy'],\n",
        "              )\n",
        "\n"
      ],
      "metadata": {
        "id": "zG_OPi3mZwNq"
      },
      "execution_count": 24,
      "outputs": []
    },
    {
      "cell_type": "code",
      "source": [
        "network.fit(x_train, y_train_to_categorical , epochs=5,validation_data=(x_test,y_test_to_categorical))"
      ],
      "metadata": {
        "colab": {
          "base_uri": "https://localhost:8080/"
        },
        "id": "7qKGKlXQp1DO",
        "outputId": "8b183ab9-b7a9-4a2c-d4d6-33153d4dcb81"
      },
      "execution_count": 25,
      "outputs": [
        {
          "output_type": "stream",
          "name": "stdout",
          "text": [
            "Epoch 1/5\n",
            "1563/1563 [==============================] - 26s 11ms/step - loss: 2.1642 - accuracy: 0.1660 - val_loss: 2.0638 - val_accuracy: 0.1783\n",
            "Epoch 2/5\n",
            "1563/1563 [==============================] - 11s 7ms/step - loss: 2.0560 - accuracy: 0.1911 - val_loss: 2.0620 - val_accuracy: 0.1869\n",
            "Epoch 3/5\n",
            "1563/1563 [==============================] - 15s 10ms/step - loss: 2.0405 - accuracy: 0.1996 - val_loss: 2.0618 - val_accuracy: 0.1939\n",
            "Epoch 4/5\n",
            "1563/1563 [==============================] - 12s 8ms/step - loss: 2.0337 - accuracy: 0.2008 - val_loss: 2.0234 - val_accuracy: 0.1989\n",
            "Epoch 5/5\n",
            "1563/1563 [==============================] - 15s 10ms/step - loss: 2.0289 - accuracy: 0.2025 - val_loss: 2.0435 - val_accuracy: 0.2012\n"
          ]
        },
        {
          "output_type": "execute_result",
          "data": {
            "text/plain": [
              "<keras.callbacks.History at 0x7fa54b8a33a0>"
            ]
          },
          "metadata": {},
          "execution_count": 25
        }
      ]
    },
    {
      "cell_type": "code",
      "source": [
        "plt.plot(network.fit(x_train, y_train_to_categorical , epochs=5,validation_data=(x_test,y_test_to_categorical)).history['accuracy'])\n",
        "plt.plot(network.fit(x_train, y_train_to_categorical , epochs=5,validation_data=(x_test,y_test_to_categorical)).history['val_accuracy'])\n",
        "\n"
      ],
      "metadata": {
        "colab": {
          "base_uri": "https://localhost:8080/",
          "height": 814
        },
        "id": "unauk1hDMVx9",
        "outputId": "3214a941-8ace-4f2f-dfde-956e7dcc3478"
      },
      "execution_count": 26,
      "outputs": [
        {
          "output_type": "stream",
          "name": "stdout",
          "text": [
            "Epoch 1/5\n",
            "1563/1563 [==============================] - 16s 10ms/step - loss: 2.0263 - accuracy: 0.2033 - val_loss: 2.0312 - val_accuracy: 0.1985\n",
            "Epoch 2/5\n",
            "1563/1563 [==============================] - 11s 7ms/step - loss: 2.0237 - accuracy: 0.2054 - val_loss: 2.0146 - val_accuracy: 0.2043\n",
            "Epoch 3/5\n",
            "1563/1563 [==============================] - 15s 10ms/step - loss: 2.0215 - accuracy: 0.2054 - val_loss: 2.0351 - val_accuracy: 0.1999\n",
            "Epoch 4/5\n",
            "1563/1563 [==============================] - 16s 10ms/step - loss: 2.0194 - accuracy: 0.2063 - val_loss: 2.0186 - val_accuracy: 0.2080\n",
            "Epoch 5/5\n",
            "1563/1563 [==============================] - 18s 11ms/step - loss: 2.0184 - accuracy: 0.2076 - val_loss: 2.0135 - val_accuracy: 0.2120\n",
            "Epoch 1/5\n",
            "1563/1563 [==============================] - 15s 10ms/step - loss: 2.0180 - accuracy: 0.2069 - val_loss: 2.0280 - val_accuracy: 0.1987\n",
            "Epoch 2/5\n",
            "1563/1563 [==============================] - 11s 7ms/step - loss: 2.0169 - accuracy: 0.2092 - val_loss: 2.0207 - val_accuracy: 0.2045\n",
            "Epoch 3/5\n",
            "1563/1563 [==============================] - 14s 9ms/step - loss: 2.0159 - accuracy: 0.2102 - val_loss: 2.0112 - val_accuracy: 0.2088\n",
            "Epoch 4/5\n",
            "1563/1563 [==============================] - 11s 7ms/step - loss: 2.0161 - accuracy: 0.2096 - val_loss: 2.0086 - val_accuracy: 0.2088\n",
            "Epoch 5/5\n",
            "1563/1563 [==============================] - 17s 11ms/step - loss: 2.0147 - accuracy: 0.2080 - val_loss: 2.0250 - val_accuracy: 0.2063\n"
          ]
        },
        {
          "output_type": "execute_result",
          "data": {
            "text/plain": [
              "[<matplotlib.lines.Line2D at 0x7fa4609bc550>]"
            ]
          },
          "metadata": {},
          "execution_count": 26
        },
        {
          "output_type": "display_data",
          "data": {
            "text/plain": [
              "<Figure size 640x480 with 1 Axes>"
            ],
            "image/png": "[encoded data removed]"
          },
          "metadata": {}
        }
      ]
    }
  ]
}