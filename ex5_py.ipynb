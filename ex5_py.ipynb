{
  "nbformat": 4,
  "nbformat_minor": 0,
  "metadata": {
    "colab": {
      "provenance": [],
      "gpuType": "T4",
      "authorship_tag": "ABX9TyOI2KaGJx9Wjn1IK7dnc32O",
      "include_colab_link": true
    },
    "kernelspec": {
      "name": "python3",
      "display_name": "Python 3"
    },
    "language_info": {
      "name": "python"
    },
    "accelerator": "GPU"
  },
  "cells": [
    {
      "cell_type": "markdown",
      "metadata": {
        "id": "view-in-github",
        "colab_type": "text"
      },
      "source": [
        "<a href=\"https://colab.research.google.com/github/RexGod/Training-cifar10-dataset-by-fully-connected-nueral_Network/blob/main/ex5_py.ipynb\" target=\"_parent\"><img src=\"https://colab.research.google.com/assets/colab-badge.svg\" alt=\"Open In Colab\"/></a>"
      ]
    },
    {
      "cell_type": "markdown",
      "source": [
        "Import Section"
      ],
      "metadata": {
        "id": "IjWWZlaeljhj"
      }
    },
    {
      "cell_type": "code",
      "execution_count": 135,
      "metadata": {
        "id": "G4SDfWUb_i9x"
      },
      "outputs": [],
      "source": [
        "import tensorflow as tf\n",
        "from tensorflow import keras\n",
        "from keras import datasets,models,layers\n",
        "import matplotlib.pyplot as plt\n",
        "from tensorflow.keras.utils import plot_model\n",
        "import numpy as np"
      ]
    },
    {
      "cell_type": "markdown",
      "source": [
        "Load cifar10 Data"
      ],
      "metadata": {
        "id": "yHWNRXfVlqkh"
      }
    },
    {
      "cell_type": "code",
      "source": [
        "(x_train, y_train), (x_test, y_test) = tf.keras.datasets.cifar10.load_data()"
      ],
      "metadata": {
        "id": "oHtR1m9a3SxE"
      },
      "execution_count": 136,
      "outputs": []
    },
    {
      "cell_type": "code",
      "source": [
        "#y_train[0] #array([6], dtype=uint8)\n",
        "#y_train[1] array([9], dtype=uint8)\n",
        "y_train[2] #array([9], dtype=uint8)\n",
        "# return an integer number betweeen 0-9 reference to class"
      ],
      "metadata": {
        "colab": {
          "base_uri": "https://localhost:8080/"
        },
        "id": "Drz6ai6QHMRg",
        "outputId": "8e2f73ba-161b-4efd-9664-938f85da7baa"
      },
      "execution_count": 137,
      "outputs": [
        {
          "output_type": "execute_result",
          "data": {
            "text/plain": [
              "array([9], dtype=uint8)"
            ]
          },
          "metadata": {},
          "execution_count": 137
        }
      ]
    },
    {
      "cell_type": "markdown",
      "source": [
        "reference : https://github.com/codebasics/py/blob/master/DeepLearningML/10_gpu_benchmarking/gpu_performance_test_small_image_classification.ipynb"
      ],
      "metadata": {
        "id": "LKzScIVhHnAT"
      }
    },
    {
      "cell_type": "code",
      "source": [
        "''' def plot_sample(index):\n",
        "    plt.figure(figsize = (10,1))\n",
        "    plt.imshow(x_train[index]) '''\n",
        "#plot_sample(0) this was ghorbaghe   \n",
        "#plot_sample(1) this was truck\n",
        "#plot_sample(2) #truck"
      ],
      "metadata": {
        "colab": {
          "base_uri": "https://localhost:8080/",
          "height": 36
        },
        "id": "i2HpKkfMHVed",
        "outputId": "d2958b6b-1318-4c07-e913-1bf367a6d755"
      },
      "execution_count": 138,
      "outputs": [
        {
          "output_type": "execute_result",
          "data": {
            "text/plain": [
              "' def plot_sample(index):\\n    plt.figure(figsize = (10,1))\\n    plt.imshow(x_train[index]) '"
            ],
            "application/vnd.google.colaboratory.intrinsic+json": {
              "type": "string"
            }
          },
          "metadata": {},
          "execution_count": 138
        }
      ]
    },
    {
      "cell_type": "code",
      "source": [
        "x_train.shape\n",
        "#x_test.shape\n",
        "x_train[0] # pixele ye adadie bein 0 ta 255"
      ],
      "metadata": {
        "colab": {
          "base_uri": "https://localhost:8080/"
        },
        "id": "h5yo-GNY-_Nn",
        "outputId": "93ea6e07-b095-41c8-d7f0-41b2399efdc3"
      },
      "execution_count": 139,
      "outputs": [
        {
          "output_type": "execute_result",
          "data": {
            "text/plain": [
              "array([[[ 59,  62,  63],\n",
              "        [ 43,  46,  45],\n",
              "        [ 50,  48,  43],\n",
              "        ...,\n",
              "        [158, 132, 108],\n",
              "        [152, 125, 102],\n",
              "        [148, 124, 103]],\n",
              "\n",
              "       [[ 16,  20,  20],\n",
              "        [  0,   0,   0],\n",
              "        [ 18,   8,   0],\n",
              "        ...,\n",
              "        [123,  88,  55],\n",
              "        [119,  83,  50],\n",
              "        [122,  87,  57]],\n",
              "\n",
              "       [[ 25,  24,  21],\n",
              "        [ 16,   7,   0],\n",
              "        [ 49,  27,   8],\n",
              "        ...,\n",
              "        [118,  84,  50],\n",
              "        [120,  84,  50],\n",
              "        [109,  73,  42]],\n",
              "\n",
              "       ...,\n",
              "\n",
              "       [[208, 170,  96],\n",
              "        [201, 153,  34],\n",
              "        [198, 161,  26],\n",
              "        ...,\n",
              "        [160, 133,  70],\n",
              "        [ 56,  31,   7],\n",
              "        [ 53,  34,  20]],\n",
              "\n",
              "       [[180, 139,  96],\n",
              "        [173, 123,  42],\n",
              "        [186, 144,  30],\n",
              "        ...,\n",
              "        [184, 148,  94],\n",
              "        [ 97,  62,  34],\n",
              "        [ 83,  53,  34]],\n",
              "\n",
              "       [[177, 144, 116],\n",
              "        [168, 129,  94],\n",
              "        [179, 142,  87],\n",
              "        ...,\n",
              "        [216, 184, 140],\n",
              "        [151, 118,  84],\n",
              "        [123,  92,  72]]], dtype=uint8)"
            ]
          },
          "metadata": {},
          "execution_count": 139
        }
      ]
    },
    {
      "cell_type": "code",
      "source": [
        "x_train = x_train / 255 # normalize mikonim inja ham vase data haye test ham vse train\n",
        "x_test = x_test / 255"
      ],
      "metadata": {
        "id": "1SDzG6y_qICv"
      },
      "execution_count": 140,
      "outputs": []
    },
    {
      "cell_type": "code",
      "source": [
        "classes = ['airplanes', 'cars', 'birds', 'cats', 'deer', 'dogs', 'frogs', 'horses', 'ships','trucks']"
      ],
      "metadata": {
        "id": "i7WA1S4sFGei"
      },
      "execution_count": 141,
      "outputs": []
    },
    {
      "cell_type": "code",
      "source": [
        "y_train_to_categorical = keras.utils.to_categorical(\n",
        "    y_train, num_classes=len(classes), dtype='float32'\n",
        ")\n",
        "y_test_to_categorical = keras.utils.to_categorical(\n",
        "    y_test, num_classes=len(classes), dtype='float32'\n",
        ")"
      ],
      "metadata": {
        "id": "jeJGEM3bpwmV"
      },
      "execution_count": 142,
      "outputs": []
    },
    {
      "cell_type": "code",
      "source": [
        "network = models.Sequential()\n",
        "\n",
        "network.add(layers.Flatten( input_shape=(32, 32, 3)))"
      ],
      "metadata": {
        "id": "kVhSGgBlAbFP"
      },
      "execution_count": 143,
      "outputs": []
    },
    {
      "cell_type": "code",
      "source": [
        "from keras.backend import dropout\n",
        "\n",
        "network.add(layers.Dense(512,activation='relu')) #hidden_layer1\n",
        "network.add(layers.Dropout(0.3))\n",
        "network.add(layers.Dense(256,activation='relu')) #hidden_layer2\n",
        "network.add(layers.Dropout(0.3))\n",
        "network.add(layers.Dense(128, activation='relu')) #hidden_layer3\n",
        "network.add(layers.Dropout(0.3))\n",
        "network.add(layers.Dense(64, activation='relu')) #hidden_layer4\n",
        "network.add(layers.Dropout(0.3))\n",
        "network.add(layers.Dense(32, activation='relu')) #hidden_layer5\n",
        "network.add(layers.Dense(len(classes), activation='softmax'))  #output_layer\n"
      ],
      "metadata": {
        "id": "-rLBPPENHVxW"
      },
      "execution_count": 144,
      "outputs": []
    },
    {
      "cell_type": "code",
      "source": [
        "network.compile(optimizer='SGD',\n",
        "              loss='categorical_crossentropy',\n",
        "              metrics=['accuracy'],\n",
        "              )\n",
        "\n"
      ],
      "metadata": {
        "id": "zG_OPi3mZwNq"
      },
      "execution_count": 145,
      "outputs": []
    },
    {
      "cell_type": "code",
      "source": [
        "nem=network.fit(x_train, y_train_to_categorical , epochs=10,validation_data=(x_test,y_test_to_categorical))"
      ],
      "metadata": {
        "colab": {
          "base_uri": "https://localhost:8080/"
        },
        "id": "7qKGKlXQp1DO",
        "outputId": "680ee647-7a90-4f26-83b3-3548566b2227"
      },
      "execution_count": 146,
      "outputs": [
        {
          "output_type": "stream",
          "name": "stdout",
          "text": [
            "Epoch 1/5\n",
            "1563/1563 [==============================] - 24s 15ms/step - loss: 2.1540 - accuracy: 0.1836 - val_loss: 1.9841 - val_accuracy: 0.2583\n",
            "Epoch 2/5\n",
            "1563/1563 [==============================] - 13s 8ms/step - loss: 1.9845 - accuracy: 0.2626 - val_loss: 1.8551 - val_accuracy: 0.3208\n",
            "Epoch 3/5\n",
            "1563/1563 [==============================] - 16s 10ms/step - loss: 1.9134 - accuracy: 0.2947 - val_loss: 1.8054 - val_accuracy: 0.3437\n",
            "Epoch 4/5\n",
            "1563/1563 [==============================] - 15s 10ms/step - loss: 1.8586 - accuracy: 0.3192 - val_loss: 1.7539 - val_accuracy: 0.3727\n",
            "Epoch 5/5\n",
            "1563/1563 [==============================] - 14s 9ms/step - loss: 1.8248 - accuracy: 0.3326 - val_loss: 1.7173 - val_accuracy: 0.3790\n"
          ]
        }
      ]
    },
    {
      "cell_type": "code",
      "source": [
        "plt.plot(nem.history['accuracy'])\n",
        "plt.plot(nem.history['val_accuracy'])\n",
        "plt.title('Model Accuracy')\n",
        "plt.ylabel('Accuracy')\n"
      ],
      "metadata": {
        "colab": {
          "base_uri": "https://localhost:8080/",
          "height": 470
        },
        "id": "unauk1hDMVx9",
        "outputId": "7db342a8-5eb9-4281-b6bf-d8bee2b8825b"
      },
      "execution_count": 147,
      "outputs": [
        {
          "output_type": "execute_result",
          "data": {
            "text/plain": [
              "Text(0, 0.5, 'Accuracy')"
            ]
          },
          "metadata": {},
          "execution_count": 147
        },
        {
          "output_type": "display_data",
          "data": {
            "text/plain": [
              "<Figure size 640x480 with 1 Axes>"
            ],
            "image/png": "[encoded data removed]"
          },
          "metadata": {}
        }
      ]
    },
    {
      "cell_type": "code",
      "source": [
        "network.summary()"
      ],
      "metadata": {
        "colab": {
          "base_uri": "https://localhost:8080/"
        },
        "id": "YvocUzAdbuIj",
        "outputId": "b584948c-ef61-49e1-bceb-565eb8d8f280"
      },
      "execution_count": 148,
      "outputs": [
        {
          "output_type": "stream",
          "name": "stdout",
          "text": [
            "Model: \"sequential_11\"\n",
            "_________________________________________________________________\n",
            " Layer (type)                Output Shape              Param #   \n",
            "=================================================================\n",
            " flatten_11 (Flatten)        (None, 3072)              0         \n",
            "                                                                 \n",
            " dense_69 (Dense)            (None, 512)               1573376   \n",
            "                                                                 \n",
            " dropout_4 (Dropout)         (None, 512)               0         \n",
            "                                                                 \n",
            " dense_70 (Dense)            (None, 256)               131328    \n",
            "                                                                 \n",
            " dropout_5 (Dropout)         (None, 256)               0         \n",
            "                                                                 \n",
            " dense_71 (Dense)            (None, 128)               32896     \n",
            "                                                                 \n",
            " dropout_6 (Dropout)         (None, 128)               0         \n",
            "                                                                 \n",
            " dense_72 (Dense)            (None, 64)                8256      \n",
            "                                                                 \n",
            " dropout_7 (Dropout)         (None, 64)                0         \n",
            "                                                                 \n",
            " dense_73 (Dense)            (None, 32)                2080      \n",
            "                                                                 \n",
            " dense_74 (Dense)            (None, 10)                330       \n",
            "                                                                 \n",
            "=================================================================\n",
            "Total params: 1,748,266\n",
            "Trainable params: 1,748,266\n",
            "Non-trainable params: 0\n",
            "_________________________________________________________________\n"
          ]
        }
      ]
    }
  ]
}