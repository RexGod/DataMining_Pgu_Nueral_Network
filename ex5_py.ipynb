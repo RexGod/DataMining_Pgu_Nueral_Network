{
  "nbformat": 4,
  "nbformat_minor": 0,
  "metadata": {
    "colab": {
      "provenance": [],
      "gpuType": "T4",
      "authorship_tag": "ABX9TyOMve9LsnH1mp83IQKYLCZb",
      "include_colab_link": true
    },
    "kernelspec": {
      "name": "python3",
      "display_name": "Python 3"
    },
    "language_info": {
      "name": "python"
    },
    "accelerator": "GPU"
  },
  "cells": [
    {
      "cell_type": "markdown",
      "metadata": {
        "id": "view-in-github",
        "colab_type": "text"
      },
      "source": [
        "<a href=\"https://colab.research.google.com/github/RexGod/Training-cifar10-dataset-by-fully-connected-nueral_Network/blob/main/ex5_py.ipynb\" target=\"_parent\"><img src=\"https://colab.research.google.com/assets/colab-badge.svg\" alt=\"Open In Colab\"/></a>"
      ]
    },
    {
      "cell_type": "markdown",
      "source": [
        "Import Section"
      ],
      "metadata": {
        "id": "IjWWZlaeljhj"
      }
    },
    {
      "cell_type": "code",
      "execution_count": 163,
      "metadata": {
        "id": "G4SDfWUb_i9x"
      },
      "outputs": [],
      "source": [
        "import tensorflow as tf\n",
        "from tensorflow import keras\n",
        "from keras import datasets,models,layers\n",
        "import matplotlib.pyplot as plt\n",
        "from tensorflow.keras.utils import plot_model\n",
        "import numpy as np"
      ]
    },
    {
      "cell_type": "markdown",
      "source": [
        "Load cifar10 Data"
      ],
      "metadata": {
        "id": "yHWNRXfVlqkh"
      }
    },
    {
      "cell_type": "code",
      "source": [
        "(x_train, y_train), (x_test, y_test) = tf.keras.datasets.cifar10.load_data()"
      ],
      "metadata": {
        "id": "oHtR1m9a3SxE"
      },
      "execution_count": 164,
      "outputs": []
    },
    {
      "cell_type": "code",
      "source": [
        "#y_train[0] #array([6], dtype=uint8)\n",
        "#y_train[1] array([9], dtype=uint8)\n",
        "y_train[2] #array([9], dtype=uint8)\n",
        "# return an integer number betweeen 0-9 reference to class"
      ],
      "metadata": {
        "colab": {
          "base_uri": "https://localhost:8080/"
        },
        "id": "Drz6ai6QHMRg",
        "outputId": "0f3ab74f-99f7-4100-ab9a-b90249831b44"
      },
      "execution_count": 165,
      "outputs": [
        {
          "output_type": "execute_result",
          "data": {
            "text/plain": [
              "array([9], dtype=uint8)"
            ]
          },
          "metadata": {},
          "execution_count": 165
        }
      ]
    },
    {
      "cell_type": "markdown",
      "source": [
        "reference : https://github.com/codebasics/py/blob/master/DeepLearningML/10_gpu_benchmarking/gpu_performance_test_small_image_classification.ipynb"
      ],
      "metadata": {
        "id": "LKzScIVhHnAT"
      }
    },
    {
      "cell_type": "code",
      "source": [
        "''' def plot_sample(index):\n",
        "    plt.figure(figsize = (10,1))\n",
        "    plt.imshow(x_train[index]) '''\n",
        "#plot_sample(0) this was ghorbaghe   \n",
        "#plot_sample(1) this was truck\n",
        "#plot_sample(2) #truck"
      ],
      "metadata": {
        "colab": {
          "base_uri": "https://localhost:8080/",
          "height": 36
        },
        "id": "i2HpKkfMHVed",
        "outputId": "81a09564-44db-43c4-9010-ce9b42d001b0"
      },
      "execution_count": 166,
      "outputs": [
        {
          "output_type": "execute_result",
          "data": {
            "text/plain": [
              "' def plot_sample(index):\\n    plt.figure(figsize = (10,1))\\n    plt.imshow(x_train[index]) '"
            ],
            "application/vnd.google.colaboratory.intrinsic+json": {
              "type": "string"
            }
          },
          "metadata": {},
          "execution_count": 166
        }
      ]
    },
    {
      "cell_type": "code",
      "source": [
        "x_train.shape\n",
        "#x_test.shape\n",
        "x_train[0] # pixele ye adadie bein 0 ta 255"
      ],
      "metadata": {
        "colab": {
          "base_uri": "https://localhost:8080/"
        },
        "id": "h5yo-GNY-_Nn",
        "outputId": "291e39ae-1acb-40a9-fbd7-975ac11a613e"
      },
      "execution_count": 167,
      "outputs": [
        {
          "output_type": "execute_result",
          "data": {
            "text/plain": [
              "array([[[ 59,  62,  63],\n",
              "        [ 43,  46,  45],\n",
              "        [ 50,  48,  43],\n",
              "        ...,\n",
              "        [158, 132, 108],\n",
              "        [152, 125, 102],\n",
              "        [148, 124, 103]],\n",
              "\n",
              "       [[ 16,  20,  20],\n",
              "        [  0,   0,   0],\n",
              "        [ 18,   8,   0],\n",
              "        ...,\n",
              "        [123,  88,  55],\n",
              "        [119,  83,  50],\n",
              "        [122,  87,  57]],\n",
              "\n",
              "       [[ 25,  24,  21],\n",
              "        [ 16,   7,   0],\n",
              "        [ 49,  27,   8],\n",
              "        ...,\n",
              "        [118,  84,  50],\n",
              "        [120,  84,  50],\n",
              "        [109,  73,  42]],\n",
              "\n",
              "       ...,\n",
              "\n",
              "       [[208, 170,  96],\n",
              "        [201, 153,  34],\n",
              "        [198, 161,  26],\n",
              "        ...,\n",
              "        [160, 133,  70],\n",
              "        [ 56,  31,   7],\n",
              "        [ 53,  34,  20]],\n",
              "\n",
              "       [[180, 139,  96],\n",
              "        [173, 123,  42],\n",
              "        [186, 144,  30],\n",
              "        ...,\n",
              "        [184, 148,  94],\n",
              "        [ 97,  62,  34],\n",
              "        [ 83,  53,  34]],\n",
              "\n",
              "       [[177, 144, 116],\n",
              "        [168, 129,  94],\n",
              "        [179, 142,  87],\n",
              "        ...,\n",
              "        [216, 184, 140],\n",
              "        [151, 118,  84],\n",
              "        [123,  92,  72]]], dtype=uint8)"
            ]
          },
          "metadata": {},
          "execution_count": 167
        }
      ]
    },
    {
      "cell_type": "code",
      "source": [
        "x_train = x_train / 255 # normalize mikonim inja ham vase data haye test ham vse train\n",
        "x_test = x_test / 255"
      ],
      "metadata": {
        "id": "1SDzG6y_qICv"
      },
      "execution_count": 168,
      "outputs": []
    },
    {
      "cell_type": "code",
      "source": [
        "classes = ['airplanes', 'cars', 'birds', 'cats', 'deer', 'dogs', 'frogs', 'horses', 'ships','trucks']"
      ],
      "metadata": {
        "id": "i7WA1S4sFGei"
      },
      "execution_count": 169,
      "outputs": []
    },
    {
      "cell_type": "code",
      "source": [
        "y_train_to_categorical = keras.utils.to_categorical(\n",
        "    y_train, num_classes=len(classes), dtype='float32'\n",
        ")\n",
        "y_test_to_categorical = keras.utils.to_categorical(\n",
        "    y_test, num_classes=len(classes), dtype='float32'\n",
        ")"
      ],
      "metadata": {
        "id": "jeJGEM3bpwmV"
      },
      "execution_count": 170,
      "outputs": []
    },
    {
      "cell_type": "code",
      "source": [
        "network = models.Sequential()\n",
        "\n",
        "network.add(layers.Flatten( input_shape=(32, 32, 3)))"
      ],
      "metadata": {
        "id": "kVhSGgBlAbFP"
      },
      "execution_count": 171,
      "outputs": []
    },
    {
      "cell_type": "code",
      "source": [
        "from keras.backend import dropout\n",
        "\n",
        "network.add(layers.Dense(512,activation='relu')) #hidden_layer1\n",
        "network.add(layers.Dropout(0.3)) \n",
        "network.add(layers.Dense(256,activation='relu')) #hidden_layer2\n",
        "network.add(layers.Dropout(0.3))\n",
        "network.add(layers.Dense(128, activation='relu')) #hidden_layer3\n",
        "network.add(layers.Dropout(0.3))\n",
        "network.add(layers.Dense(64, activation='relu')) #hidden_layer4\n",
        "network.add(layers.Dropout(0.3))\n",
        "network.add(layers.Dense(32, activation='relu')) #hidden_layer5\n",
        "network.add(layers.Dense(len(classes), activation='softmax'))  #output_layer\n",
        "#without Dropout acc train = 78 and acc test = 50 Overfitt"
      ],
      "metadata": {
        "id": "-rLBPPENHVxW"
      },
      "execution_count": 172,
      "outputs": []
    },
    {
      "cell_type": "code",
      "source": [
        "network.compile(optimizer='SGD',\n",
        "              loss='categorical_crossentropy',\n",
        "              metrics=['accuracy'],\n",
        "              )\n",
        "\n"
      ],
      "metadata": {
        "id": "zG_OPi3mZwNq"
      },
      "execution_count": 173,
      "outputs": []
    },
    {
      "cell_type": "code",
      "source": [
        "nem=network.fit(x_train, y_train_to_categorical , epochs=50,validation_data=(x_test,y_test_to_categorical))"
      ],
      "metadata": {
        "colab": {
          "base_uri": "https://localhost:8080/"
        },
        "id": "7qKGKlXQp1DO",
        "outputId": "b2420f6c-0402-40a3-b8f9-40b7e1e2ce7b"
      },
      "execution_count": 174,
      "outputs": [
        {
          "output_type": "stream",
          "name": "stdout",
          "text": [
            "Epoch 1/50\n",
            "1563/1563 [==============================] - 21s 12ms/step - loss: 2.1834 - accuracy: 0.1705 - val_loss: 2.0044 - val_accuracy: 0.2520\n",
            "Epoch 2/50\n",
            "1563/1563 [==============================] - 11s 7ms/step - loss: 2.0088 - accuracy: 0.2426 - val_loss: 1.8905 - val_accuracy: 0.2953\n",
            "Epoch 3/50\n",
            "1563/1563 [==============================] - 14s 9ms/step - loss: 1.9373 - accuracy: 0.2759 - val_loss: 1.8603 - val_accuracy: 0.3148\n",
            "Epoch 4/50\n",
            "1563/1563 [==============================] - 13s 8ms/step - loss: 1.8867 - accuracy: 0.2992 - val_loss: 1.8019 - val_accuracy: 0.3398\n",
            "Epoch 5/50\n",
            "1563/1563 [==============================] - 13s 8ms/step - loss: 1.8543 - accuracy: 0.3141 - val_loss: 1.7566 - val_accuracy: 0.3686\n",
            "Epoch 6/50\n",
            "1563/1563 [==============================] - 14s 9ms/step - loss: 1.8174 - accuracy: 0.3335 - val_loss: 1.7307 - val_accuracy: 0.3737\n",
            "Epoch 7/50\n",
            "1563/1563 [==============================] - 14s 9ms/step - loss: 1.7889 - accuracy: 0.3436 - val_loss: 1.6776 - val_accuracy: 0.3996\n",
            "Epoch 8/50\n",
            "1563/1563 [==============================] - 12s 8ms/step - loss: 1.7606 - accuracy: 0.3577 - val_loss: 1.6701 - val_accuracy: 0.3993\n",
            "Epoch 9/50\n",
            "1563/1563 [==============================] - 14s 9ms/step - loss: 1.7353 - accuracy: 0.3681 - val_loss: 1.7945 - val_accuracy: 0.3564\n",
            "Epoch 10/50\n",
            "1563/1563 [==============================] - 14s 9ms/step - loss: 1.7146 - accuracy: 0.3792 - val_loss: 1.6021 - val_accuracy: 0.4288\n",
            "Epoch 11/50\n",
            "1563/1563 [==============================] - 12s 8ms/step - loss: 1.6989 - accuracy: 0.3837 - val_loss: 1.6742 - val_accuracy: 0.4047\n",
            "Epoch 12/50\n",
            "1563/1563 [==============================] - 14s 9ms/step - loss: 1.6791 - accuracy: 0.3922 - val_loss: 1.5862 - val_accuracy: 0.4340\n",
            "Epoch 13/50\n",
            "1563/1563 [==============================] - 15s 10ms/step - loss: 1.6628 - accuracy: 0.3989 - val_loss: 1.5795 - val_accuracy: 0.4219\n",
            "Epoch 14/50\n",
            "1563/1563 [==============================] - 17s 11ms/step - loss: 1.6496 - accuracy: 0.4061 - val_loss: 1.5491 - val_accuracy: 0.4433\n",
            "Epoch 15/50\n",
            "1563/1563 [==============================] - 16s 10ms/step - loss: 1.6363 - accuracy: 0.4105 - val_loss: 1.5436 - val_accuracy: 0.4527\n",
            "Epoch 16/50\n",
            "1563/1563 [==============================] - 13s 9ms/step - loss: 1.6195 - accuracy: 0.4161 - val_loss: 1.5430 - val_accuracy: 0.4492\n",
            "Epoch 17/50\n",
            "1563/1563 [==============================] - 15s 10ms/step - loss: 1.6104 - accuracy: 0.4202 - val_loss: 1.5325 - val_accuracy: 0.4603\n",
            "Epoch 18/50\n",
            "1563/1563 [==============================] - 14s 9ms/step - loss: 1.5935 - accuracy: 0.4255 - val_loss: 1.5101 - val_accuracy: 0.4567\n",
            "Epoch 19/50\n",
            "1563/1563 [==============================] - 14s 9ms/step - loss: 1.5843 - accuracy: 0.4299 - val_loss: 1.4900 - val_accuracy: 0.4660\n",
            "Epoch 20/50\n",
            "1563/1563 [==============================] - 17s 11ms/step - loss: 1.5733 - accuracy: 0.4351 - val_loss: 1.4852 - val_accuracy: 0.4656\n",
            "Epoch 21/50\n",
            "1563/1563 [==============================] - 12s 8ms/step - loss: 1.5613 - accuracy: 0.4400 - val_loss: 1.5974 - val_accuracy: 0.4318\n",
            "Epoch 22/50\n",
            "1563/1563 [==============================] - 12s 8ms/step - loss: 1.5524 - accuracy: 0.4443 - val_loss: 1.4691 - val_accuracy: 0.4697\n",
            "Epoch 23/50\n",
            "1563/1563 [==============================] - 14s 9ms/step - loss: 1.5397 - accuracy: 0.4496 - val_loss: 1.4612 - val_accuracy: 0.4777\n",
            "Epoch 24/50\n",
            "1563/1563 [==============================] - 14s 9ms/step - loss: 1.5373 - accuracy: 0.4477 - val_loss: 1.4643 - val_accuracy: 0.4756\n",
            "Epoch 25/50\n",
            "1563/1563 [==============================] - 13s 8ms/step - loss: 1.5225 - accuracy: 0.4556 - val_loss: 1.4581 - val_accuracy: 0.4751\n",
            "Epoch 26/50\n",
            "1563/1563 [==============================] - 17s 11ms/step - loss: 1.5158 - accuracy: 0.4574 - val_loss: 1.4576 - val_accuracy: 0.4774\n",
            "Epoch 27/50\n",
            "1563/1563 [==============================] - 15s 10ms/step - loss: 1.5105 - accuracy: 0.4604 - val_loss: 1.4736 - val_accuracy: 0.4754\n",
            "Epoch 28/50\n",
            "1563/1563 [==============================] - 14s 9ms/step - loss: 1.5023 - accuracy: 0.4612 - val_loss: 1.4223 - val_accuracy: 0.4903\n",
            "Epoch 29/50\n",
            "1563/1563 [==============================] - 12s 8ms/step - loss: 1.4964 - accuracy: 0.4632 - val_loss: 1.4408 - val_accuracy: 0.4827\n",
            "Epoch 30/50\n",
            "1563/1563 [==============================] - 18s 12ms/step - loss: 1.4855 - accuracy: 0.4692 - val_loss: 1.4200 - val_accuracy: 0.4872\n",
            "Epoch 31/50\n",
            "1563/1563 [==============================] - 11s 7ms/step - loss: 1.4750 - accuracy: 0.4729 - val_loss: 1.4350 - val_accuracy: 0.4803\n",
            "Epoch 32/50\n",
            "1563/1563 [==============================] - 19s 12ms/step - loss: 1.4713 - accuracy: 0.4741 - val_loss: 1.4122 - val_accuracy: 0.4935\n",
            "Epoch 33/50\n",
            "1563/1563 [==============================] - 15s 10ms/step - loss: 1.4628 - accuracy: 0.4749 - val_loss: 1.4544 - val_accuracy: 0.4703\n",
            "Epoch 34/50\n",
            "1563/1563 [==============================] - 13s 8ms/step - loss: 1.4552 - accuracy: 0.4773 - val_loss: 1.4007 - val_accuracy: 0.4992\n",
            "Epoch 35/50\n",
            "1563/1563 [==============================] - 14s 9ms/step - loss: 1.4512 - accuracy: 0.4818 - val_loss: 1.4026 - val_accuracy: 0.4930\n",
            "Epoch 36/50\n",
            "1563/1563 [==============================] - 15s 9ms/step - loss: 1.4455 - accuracy: 0.4846 - val_loss: 1.4185 - val_accuracy: 0.4912\n",
            "Epoch 37/50\n",
            "1563/1563 [==============================] - 14s 9ms/step - loss: 1.4344 - accuracy: 0.4866 - val_loss: 1.3807 - val_accuracy: 0.5106\n",
            "Epoch 38/50\n",
            "1563/1563 [==============================] - 15s 10ms/step - loss: 1.4311 - accuracy: 0.4899 - val_loss: 1.3884 - val_accuracy: 0.5020\n",
            "Epoch 39/50\n",
            "1563/1563 [==============================] - 19s 12ms/step - loss: 1.4205 - accuracy: 0.4893 - val_loss: 1.3880 - val_accuracy: 0.5038\n",
            "Epoch 40/50\n",
            "1563/1563 [==============================] - 14s 9ms/step - loss: 1.4158 - accuracy: 0.4935 - val_loss: 1.3881 - val_accuracy: 0.5010\n",
            "Epoch 41/50\n",
            "1563/1563 [==============================] - 12s 8ms/step - loss: 1.4129 - accuracy: 0.4937 - val_loss: 1.3823 - val_accuracy: 0.5041\n",
            "Epoch 42/50\n",
            "1563/1563 [==============================] - 11s 7ms/step - loss: 1.4015 - accuracy: 0.4994 - val_loss: 1.4170 - val_accuracy: 0.4880\n",
            "Epoch 43/50\n",
            "1563/1563 [==============================] - 13s 8ms/step - loss: 1.3957 - accuracy: 0.5009 - val_loss: 1.3675 - val_accuracy: 0.5092\n",
            "Epoch 44/50\n",
            "1563/1563 [==============================] - 11s 7ms/step - loss: 1.3939 - accuracy: 0.5033 - val_loss: 1.3922 - val_accuracy: 0.5036\n",
            "Epoch 45/50\n",
            "1563/1563 [==============================] - 11s 7ms/step - loss: 1.3907 - accuracy: 0.5035 - val_loss: 1.3778 - val_accuracy: 0.5089\n",
            "Epoch 46/50\n",
            "1563/1563 [==============================] - 10s 6ms/step - loss: 1.3792 - accuracy: 0.5072 - val_loss: 1.3952 - val_accuracy: 0.5046\n",
            "Epoch 47/50\n",
            "1563/1563 [==============================] - 17s 11ms/step - loss: 1.3768 - accuracy: 0.5085 - val_loss: 1.3689 - val_accuracy: 0.5046\n",
            "Epoch 48/50\n",
            "1563/1563 [==============================] - 14s 9ms/step - loss: 1.3702 - accuracy: 0.5112 - val_loss: 1.3754 - val_accuracy: 0.5151\n",
            "Epoch 49/50\n",
            "1563/1563 [==============================] - 14s 9ms/step - loss: 1.3740 - accuracy: 0.5107 - val_loss: 1.3888 - val_accuracy: 0.5087\n",
            "Epoch 50/50\n",
            "1563/1563 [==============================] - 13s 8ms/step - loss: 1.3596 - accuracy: 0.5155 - val_loss: 1.3718 - val_accuracy: 0.5091\n"
          ]
        }
      ]
    },
    {
      "cell_type": "code",
      "source": [
        "plt.plot(nem.history['accuracy'])\n",
        "plt.plot(nem.history['val_accuracy'])\n",
        "plt.title('Model Accuracy')\n",
        "plt.ylabel('Accuracy')\n"
      ],
      "metadata": {
        "colab": {
          "base_uri": "https://localhost:8080/",
          "height": 470
        },
        "id": "unauk1hDMVx9",
        "outputId": "e3d1fc6c-77fb-474e-9087-7d02d9f5749d"
      },
      "execution_count": 175,
      "outputs": [
        {
          "output_type": "execute_result",
          "data": {
            "text/plain": [
              "Text(0, 0.5, 'Accuracy')"
            ]
          },
          "metadata": {},
          "execution_count": 175
        },
        {
          "output_type": "display_data",
          "data": {
            "text/plain": [
              "<Figure size 640x480 with 1 Axes>"
            ],
            "image/png": "[encoded data removed]"
          },
          "metadata": {}
        }
      ]
    },
    {
      "cell_type": "code",
      "source": [
        "network.summary()"
      ],
      "metadata": {
        "colab": {
          "base_uri": "https://localhost:8080/"
        },
        "id": "YvocUzAdbuIj",
        "outputId": "7aa7c1f8-c5b1-43fe-d228-502b70e8c693"
      },
      "execution_count": 176,
      "outputs": [
        {
          "output_type": "stream",
          "name": "stdout",
          "text": [
            "Model: \"sequential_13\"\n",
            "_________________________________________________________________\n",
            " Layer (type)                Output Shape              Param #   \n",
            "=================================================================\n",
            " flatten_13 (Flatten)        (None, 3072)              0         \n",
            "                                                                 \n",
            " dense_81 (Dense)            (None, 512)               1573376   \n",
            "                                                                 \n",
            " dropout_12 (Dropout)        (None, 512)               0         \n",
            "                                                                 \n",
            " dense_82 (Dense)            (None, 256)               131328    \n",
            "                                                                 \n",
            " dropout_13 (Dropout)        (None, 256)               0         \n",
            "                                                                 \n",
            " dense_83 (Dense)            (None, 128)               32896     \n",
            "                                                                 \n",
            " dropout_14 (Dropout)        (None, 128)               0         \n",
            "                                                                 \n",
            " dense_84 (Dense)            (None, 64)                8256      \n",
            "                                                                 \n",
            " dropout_15 (Dropout)        (None, 64)                0         \n",
            "                                                                 \n",
            " dense_85 (Dense)            (None, 32)                2080      \n",
            "                                                                 \n",
            " dense_86 (Dense)            (None, 10)                330       \n",
            "                                                                 \n",
            "=================================================================\n",
            "Total params: 1,748,266\n",
            "Trainable params: 1,748,266\n",
            "Non-trainable params: 0\n",
            "_________________________________________________________________\n"
          ]
        }
      ]
    }
  ]
}