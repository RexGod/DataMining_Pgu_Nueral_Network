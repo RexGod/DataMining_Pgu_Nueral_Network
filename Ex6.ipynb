{
  "nbformat": 4,
  "nbformat_minor": 0,
  "metadata": {
    "colab": {
      "provenance": [],
      "gpuType": "T4",
      "authorship_tag": "ABX9TyOAkmPnhG60h+pIbhfBNSkD",
      "include_colab_link": true
    },
    "kernelspec": {
      "name": "python3",
      "display_name": "Python 3"
    },
    "language_info": {
      "name": "python"
    },
    "accelerator": "GPU"
  },
  "cells": [
    {
      "cell_type": "markdown",
      "metadata": {
        "id": "view-in-github",
        "colab_type": "text"
      },
      "source": [
        "<a href=\"https://colab.research.google.com/github/RexGod/Training-cifar10-dataset-by-fully-connected-nueral_Network/blob/main/Ex6.ipynb\" target=\"_parent\"><img src=\"https://colab.research.google.com/assets/colab-badge.svg\" alt=\"Open In Colab\"/></a>"
      ]
    },
    {
      "cell_type": "markdown",
      "source": [
        "Import Section "
      ],
      "metadata": {
        "id": "OcqLxV51KM9A"
      }
    },
    {
      "cell_type": "code",
      "execution_count": 20,
      "metadata": {
        "id": "DSgwkEqjJVq-"
      },
      "outputs": [],
      "source": [
        "import tensorflow as tf\n",
        "from tensorflow import keras\n",
        "from keras import datasets,models,layers\n",
        "import matplotlib.pyplot as plt\n",
        "import numpy as np\n",
        "import random\n",
        "from tensorflow.keras.layers import Conv2D, Flatten, Dense\n"
      ]
    },
    {
      "cell_type": "markdown",
      "source": [
        "Load cifar10 Data"
      ],
      "metadata": {
        "id": "qf8SQPq2KQ7S"
      }
    },
    {
      "cell_type": "code",
      "source": [
        "(x_train, y_train), (x_test, y_test) = tf.keras.datasets.cifar10.load_data()\n",
        "#len(x_train)\n",
        "#len(y_train)"
      ],
      "metadata": {
        "id": "gEbln6FOKUtI"
      },
      "execution_count": 21,
      "outputs": []
    },
    {
      "cell_type": "markdown",
      "source": [
        "create Validation Data via 20% of Train Data (1000)"
      ],
      "metadata": {
        "id": "NHSa7DPl9JhS"
      }
    },
    {
      "cell_type": "code",
      "source": [
        "# size of data for validation data\n",
        "validation_data_size = int(len(x_train) * 0.2)\n",
        "\n",
        "# Generate random validation data from train data\n",
        "random_select = np.random.choice(len(x_train), size=validation_data_size, replace=False)\n",
        "\n",
        "# Select the validation data based on the random_select\n",
        "validation_data_x = x_train[random_select]\n",
        "validation_data_y = y_train[random_select]\n",
        "\n",
        "# Remove the selected validation data from the training data\n",
        "x_train = np.delete(x_train, random_select, axis=0)\n",
        "y_train = np.delete(y_train, random_select, axis=0)\n",
        "len(validation_data_x)\n",
        "#len(x_train)\n",
        "#len(validation_data_y)"
      ],
      "metadata": {
        "colab": {
          "base_uri": "https://localhost:8080/"
        },
        "id": "swZx68xnMTbK",
        "outputId": "2ad4b0b3-7b40-46ea-9e2b-053a4606ed6e"
      },
      "execution_count": 22,
      "outputs": [
        {
          "output_type": "execute_result",
          "data": {
            "text/plain": [
              "10000"
            ]
          },
          "metadata": {},
          "execution_count": 22
        }
      ]
    },
    {
      "cell_type": "markdown",
      "source": [
        "Normalizing Train_data"
      ],
      "metadata": {
        "id": "8eOOAExb9zol"
      }
    },
    {
      "cell_type": "code",
      "source": [
        "x_train = x_train /255"
      ],
      "metadata": {
        "id": "2Tq-tCpd9zXI"
      },
      "execution_count": 23,
      "outputs": []
    },
    {
      "cell_type": "markdown",
      "source": [
        "Convert labels to categorical"
      ],
      "metadata": {
        "id": "KvlSi_t4-Cny"
      }
    },
    {
      "cell_type": "code",
      "source": [
        "y_train_to_categorical = keras.utils.to_categorical(\n",
        "    y_train, num_classes=len(y_train), dtype='float32'\n",
        ")"
      ],
      "metadata": {
        "id": "Y5jSp811-CTy"
      },
      "execution_count": 24,
      "outputs": []
    },
    {
      "cell_type": "markdown",
      "source": [
        "CNN Model"
      ],
      "metadata": {
        "id": "tGDpjwtt9ipx"
      }
    },
    {
      "cell_type": "code",
      "source": [
        "cnn_model = models.Sequential()"
      ],
      "metadata": {
        "id": "LAtlcwVc9ITC"
      },
      "execution_count": 25,
      "outputs": []
    },
    {
      "cell_type": "markdown",
      "source": [
        "add a convolution layer \n",
        "Reference: https://www.tensorflow.org/api_docs/python/tf/keras/layers/Conv2D"
      ],
      "metadata": {
        "id": "35_OKkFe-pkX"
      }
    },
    {
      "cell_type": "code",
      "source": [
        "from keras.layers.reshaping.flatten import Flatten\n",
        "from keras.layers.core.dense import Dense\n",
        "\n",
        "cnn_model.add(Conv2D(32, kernel_size=(3, 3), activation='relu', input_shape=(32, 32, 3)))\n",
        "cnn_model.add(Conv2D(16, kernel_size=(3, 3), activation='relu'))\n",
        "cnn_model.add(Flatten())\n",
        "cnn_model.add(Dense(512, activation='relu'))\n",
        "cnn_model.add(layers.Dropout(0.5))\n",
        "cnn_model.add(Dense(256, activation='relu'))\n",
        "cnn_model.add(layers.Dropout(0.5))\n",
        "cnn_model.add(Dense(128, activation='relu'))\n",
        "cnn_model.add(layers.Dropout(0.3))\n",
        "cnn_model.add(Dense(10,activation='softmax'))"
      ],
      "metadata": {
        "id": "UL0yCnH--nFQ"
      },
      "execution_count": 26,
      "outputs": []
    },
    {
      "cell_type": "markdown",
      "source": [
        "Compile Model"
      ],
      "metadata": {
        "id": "9dRVweUCCtMZ"
      }
    },
    {
      "cell_type": "code",
      "source": [
        "cnn_model.compile(optimizer='adam' , loss='sparse_categorical_crossentropy' , metrics=['accuracy'])"
      ],
      "metadata": {
        "id": "KCft5BzcCsr9"
      },
      "execution_count": 27,
      "outputs": []
    },
    {
      "cell_type": "markdown",
      "source": [
        "Use Fit"
      ],
      "metadata": {
        "id": "T1fXhpJfDFHa"
      }
    },
    {
      "cell_type": "code",
      "source": [
        "cnn_model.fit(x_train,y_train,validation_data=(validation_data_x,validation_data_y), epochs = 10)"
      ],
      "metadata": {
        "colab": {
          "base_uri": "https://localhost:8080/"
        },
        "id": "hDy3hBhKDE5h",
        "outputId": "6c4f2b7a-a9bf-4690-da99-2d9c4d63df53"
      },
      "execution_count": 28,
      "outputs": [
        {
          "output_type": "stream",
          "name": "stdout",
          "text": [
            "Epoch 1/10\n",
            "1250/1250 [==============================] - 11s 7ms/step - loss: 1.8023 - accuracy: 0.3250 - val_loss: 177.2342 - val_accuracy: 0.3466\n",
            "Epoch 2/10\n",
            "1250/1250 [==============================] - 7s 6ms/step - loss: 1.3942 - accuracy: 0.4978 - val_loss: 129.3165 - val_accuracy: 0.4781\n",
            "Epoch 3/10\n",
            "1250/1250 [==============================] - 8s 6ms/step - loss: 1.1692 - accuracy: 0.5877 - val_loss: 185.2731 - val_accuracy: 0.4490\n",
            "Epoch 4/10\n",
            "1250/1250 [==============================] - 8s 6ms/step - loss: 0.9797 - accuracy: 0.6595 - val_loss: 112.8083 - val_accuracy: 0.5002\n",
            "Epoch 5/10\n",
            "1250/1250 [==============================] - 8s 6ms/step - loss: 0.8203 - accuracy: 0.7151 - val_loss: 133.7784 - val_accuracy: 0.5046\n",
            "Epoch 6/10\n",
            "1250/1250 [==============================] - 8s 6ms/step - loss: 0.6850 - accuracy: 0.7631 - val_loss: 157.2065 - val_accuracy: 0.5238\n",
            "Epoch 7/10\n",
            "1250/1250 [==============================] - 10s 8ms/step - loss: 0.5743 - accuracy: 0.8029 - val_loss: 165.2376 - val_accuracy: 0.5336\n",
            "Epoch 8/10\n",
            "1250/1250 [==============================] - 8s 6ms/step - loss: 0.4842 - accuracy: 0.8371 - val_loss: 205.9658 - val_accuracy: 0.5261\n",
            "Epoch 9/10\n",
            "1250/1250 [==============================] - 8s 7ms/step - loss: 0.4306 - accuracy: 0.8561 - val_loss: 229.2062 - val_accuracy: 0.5053\n",
            "Epoch 10/10\n",
            "1250/1250 [==============================] - 7s 6ms/step - loss: 0.3792 - accuracy: 0.8761 - val_loss: 204.7097 - val_accuracy: 0.5381\n"
          ]
        },
        {
          "output_type": "execute_result",
          "data": {
            "text/plain": [
              "<keras.callbacks.History at 0x7fb366661690>"
            ]
          },
          "metadata": {},
          "execution_count": 28
        }
      ]
    },
    {
      "cell_type": "code",
      "source": [
        "cnn_model.summary()"
      ],
      "metadata": {
        "colab": {
          "base_uri": "https://localhost:8080/"
        },
        "id": "HYKPksC5LSy8",
        "outputId": "fb106646-bc6e-4e76-b527-de1df5ad648c"
      },
      "execution_count": 29,
      "outputs": [
        {
          "output_type": "stream",
          "name": "stdout",
          "text": [
            "Model: \"sequential_2\"\n",
            "_________________________________________________________________\n",
            " Layer (type)                Output Shape              Param #   \n",
            "=================================================================\n",
            " conv2d_5 (Conv2D)           (None, 30, 30, 32)        896       \n",
            "                                                                 \n",
            " conv2d_6 (Conv2D)           (None, 28, 28, 16)        4624      \n",
            "                                                                 \n",
            " flatten_2 (Flatten)         (None, 12544)             0         \n",
            "                                                                 \n",
            " dense_8 (Dense)             (None, 512)               6423040   \n",
            "                                                                 \n",
            " dropout_6 (Dropout)         (None, 512)               0         \n",
            "                                                                 \n",
            " dense_9 (Dense)             (None, 256)               131328    \n",
            "                                                                 \n",
            " dropout_7 (Dropout)         (None, 256)               0         \n",
            "                                                                 \n",
            " dense_10 (Dense)            (None, 128)               32896     \n",
            "                                                                 \n",
            " dropout_8 (Dropout)         (None, 128)               0         \n",
            "                                                                 \n",
            " dense_11 (Dense)            (None, 10)                1290      \n",
            "                                                                 \n",
            "=================================================================\n",
            "Total params: 6,594,074\n",
            "Trainable params: 6,594,074\n",
            "Non-trainable params: 0\n",
            "_________________________________________________________________\n"
          ]
        }
      ]
    }
  ]
}