{
  "nbformat": 4,
  "nbformat_minor": 0,
  "metadata": {
    "colab": {
      "provenance": [],
      "authorship_tag": "ABX9TyMFztmZGJvfvHEf7H8Ze2hu",
      "include_colab_link": true
    },
    "kernelspec": {
      "name": "python3",
      "display_name": "Python 3"
    },
    "language_info": {
      "name": "python"
    }
  },
  "cells": [
    {
      "cell_type": "markdown",
      "metadata": {
        "id": "view-in-github",
        "colab_type": "text"
      },
      "source": [
        "<a href=\"https://colab.research.google.com/github/RexGod/Training-cifar10-dataset-by-fully-connected-nueral_Network/blob/main/Ex6.ipynb\" target=\"_parent\"><img src=\"https://colab.research.google.com/assets/colab-badge.svg\" alt=\"Open In Colab\"/></a>"
      ]
    },
    {
      "cell_type": "markdown",
      "source": [
        "Import Section "
      ],
      "metadata": {
        "id": "OcqLxV51KM9A"
      }
    },
    {
      "cell_type": "code",
      "execution_count": 13,
      "metadata": {
        "id": "DSgwkEqjJVq-"
      },
      "outputs": [],
      "source": [
        "import tensorflow as tf\n",
        "from tensorflow import keras\n",
        "from keras import datasets,models,layers\n",
        "import matplotlib.pyplot as plt\n",
        "import numpy as np\n",
        "import random"
      ]
    },
    {
      "cell_type": "markdown",
      "source": [
        "Load cifar10 Data"
      ],
      "metadata": {
        "id": "qf8SQPq2KQ7S"
      }
    },
    {
      "cell_type": "code",
      "source": [
        "(x_train, y_train), (x_test, y_test) = tf.keras.datasets.cifar10.load_data()\n",
        "#len(x_train)\n",
        "#len(y_train)"
      ],
      "metadata": {
        "id": "gEbln6FOKUtI"
      },
      "execution_count": 14,
      "outputs": []
    },
    {
      "cell_type": "markdown",
      "source": [
        "create Validation Data via 20% of Train Data (1000)"
      ],
      "metadata": {
        "id": "NHSa7DPl9JhS"
      }
    },
    {
      "cell_type": "code",
      "source": [
        "# size of data for validation data\n",
        "validation_data_size = int(len(x_train) * 0.2)\n",
        "\n",
        "# Generate random validation data from train data\n",
        "random_select = np.random.choice(len(x_train), size=validation_data_size, replace=False)\n",
        "\n",
        "# Select the validation data based on the random_select\n",
        "validation_data_x = x_train[random_select]\n",
        "validation_data_y = y_train[random_select]\n",
        "\n",
        "# Remove the selected validation data from the training data\n",
        "x_train = np.delete(x_train, random_select, axis=0)\n",
        "y_train = np.delete(y_train, random_select, axis=0)\n",
        "len(validation_data_x)\n",
        "#len(x_train)\n",
        "#len(validation_data_y)"
      ],
      "metadata": {
        "colab": {
          "base_uri": "https://localhost:8080/"
        },
        "id": "swZx68xnMTbK",
        "outputId": "c16e56d9-9b7e-4b77-8e64-06c5ccadeb81"
      },
      "execution_count": 15,
      "outputs": [
        {
          "output_type": "execute_result",
          "data": {
            "text/plain": [
              "10000"
            ]
          },
          "metadata": {},
          "execution_count": 15
        }
      ]
    },
    {
      "cell_type": "markdown",
      "source": [
        "Normalizing Train_data"
      ],
      "metadata": {
        "id": "8eOOAExb9zol"
      }
    },
    {
      "cell_type": "code",
      "source": [
        "x_train = x_train /255"
      ],
      "metadata": {
        "id": "2Tq-tCpd9zXI"
      },
      "execution_count": 16,
      "outputs": []
    },
    {
      "cell_type": "markdown",
      "source": [
        "Convert labels to categorical"
      ],
      "metadata": {
        "id": "KvlSi_t4-Cny"
      }
    },
    {
      "cell_type": "code",
      "source": [
        "y_train_to_categorical = keras.utils.to_categorical(\n",
        "    y_train, num_classes=len(y_train), dtype='float32'\n",
        ")"
      ],
      "metadata": {
        "id": "Y5jSp811-CTy"
      },
      "execution_count": 17,
      "outputs": []
    },
    {
      "cell_type": "markdown",
      "source": [
        "CNN Model"
      ],
      "metadata": {
        "id": "tGDpjwtt9ipx"
      }
    },
    {
      "cell_type": "code",
      "source": [
        "cnn_model = models.Sequential()"
      ],
      "metadata": {
        "id": "LAtlcwVc9ITC"
      },
      "execution_count": 18,
      "outputs": []
    },
    {
      "cell_type": "markdown",
      "source": [
        "add a convolution layer \n",
        "Reference: https://www.tensorflow.org/api_docs/python/tf/keras/layers/Conv2D"
      ],
      "metadata": {
        "id": "35_OKkFe-pkX"
      }
    },
    {
      "cell_type": "code",
      "source": [
        "from keras.layers.reshaping.flatten import Flatten\n",
        "from keras.layers.core.dense import Dense\n",
        "from keras.api._v2.keras import activations\n",
        "from tensorflow.python.ops.gen_nn_ops import Conv2D\n",
        "\n",
        "cnn_model.add(Conv2D(32, (3, 3), activation='relu', input_shape=(32, 32, 3)))\n",
        "cnn_model.add(Conv2D(32,(3,3) , activations='relu'))\n",
        "cnn_model.add(Flatten())\n",
        "\n",
        "cnn_model.add(Dense(256, activations='relu'))\n",
        "cnn_model.add(Dense(128, activations='softmax'))\n",
        "cnn_model.add(Dense(64, activations='softmax'))"
      ],
      "metadata": {
        "colab": {
          "base_uri": "https://localhost:8080/",
          "height": 391
        },
        "id": "UL0yCnH--nFQ",
        "outputId": "acbd3a9f-9336-4728-eff2-1cc943bbf764"
      },
      "execution_count": 21,
      "outputs": [
        {
          "output_type": "error",
          "ename": "TypeError",
          "evalue": "ignored",
          "traceback": [
            "\u001b[0;31m---------------------------------------------------------------------------\u001b[0m",
            "\u001b[0;31mTypeError\u001b[0m                                 Traceback (most recent call last)",
            "\u001b[0;32m<ipython-input-21-d7f22e157b69>\u001b[0m in \u001b[0;36m<cell line: 6>\u001b[0;34m()\u001b[0m\n\u001b[1;32m      4\u001b[0m \u001b[0;32mfrom\u001b[0m \u001b[0mtensorflow\u001b[0m\u001b[0;34m.\u001b[0m\u001b[0mpython\u001b[0m\u001b[0;34m.\u001b[0m\u001b[0mops\u001b[0m\u001b[0;34m.\u001b[0m\u001b[0mgen_nn_ops\u001b[0m \u001b[0;32mimport\u001b[0m \u001b[0mConv2D\u001b[0m\u001b[0;34m\u001b[0m\u001b[0;34m\u001b[0m\u001b[0m\n\u001b[1;32m      5\u001b[0m \u001b[0;34m\u001b[0m\u001b[0m\n\u001b[0;32m----> 6\u001b[0;31m \u001b[0mcnn_model\u001b[0m\u001b[0;34m.\u001b[0m\u001b[0madd\u001b[0m\u001b[0;34m(\u001b[0m\u001b[0mConv2D\u001b[0m\u001b[0;34m(\u001b[0m\u001b[0;36m32\u001b[0m\u001b[0;34m,\u001b[0m \u001b[0;34m(\u001b[0m\u001b[0;36m3\u001b[0m\u001b[0;34m,\u001b[0m \u001b[0;36m3\u001b[0m\u001b[0;34m)\u001b[0m\u001b[0;34m,\u001b[0m \u001b[0mactivation\u001b[0m\u001b[0;34m=\u001b[0m\u001b[0;34m'relu'\u001b[0m\u001b[0;34m,\u001b[0m \u001b[0minput_shape\u001b[0m\u001b[0;34m=\u001b[0m\u001b[0;34m(\u001b[0m\u001b[0;36m32\u001b[0m\u001b[0;34m,\u001b[0m \u001b[0;36m32\u001b[0m\u001b[0;34m,\u001b[0m \u001b[0;36m3\u001b[0m\u001b[0;34m)\u001b[0m\u001b[0;34m)\u001b[0m\u001b[0;34m)\u001b[0m\u001b[0;34m\u001b[0m\u001b[0;34m\u001b[0m\u001b[0m\n\u001b[0m\u001b[1;32m      7\u001b[0m \u001b[0mcnn_model\u001b[0m\u001b[0;34m.\u001b[0m\u001b[0madd\u001b[0m\u001b[0;34m(\u001b[0m\u001b[0mConv2D\u001b[0m\u001b[0;34m(\u001b[0m\u001b[0;36m32\u001b[0m\u001b[0;34m,\u001b[0m\u001b[0;34m(\u001b[0m\u001b[0;36m3\u001b[0m\u001b[0;34m,\u001b[0m\u001b[0;36m3\u001b[0m\u001b[0;34m)\u001b[0m \u001b[0;34m,\u001b[0m \u001b[0mactivations\u001b[0m\u001b[0;34m=\u001b[0m\u001b[0;34m'relu'\u001b[0m\u001b[0;34m)\u001b[0m\u001b[0;34m)\u001b[0m\u001b[0;34m\u001b[0m\u001b[0;34m\u001b[0m\u001b[0m\n\u001b[1;32m      8\u001b[0m \u001b[0mcnn_model\u001b[0m\u001b[0;34m.\u001b[0m\u001b[0madd\u001b[0m\u001b[0;34m(\u001b[0m\u001b[0mFlatten\u001b[0m\u001b[0;34m(\u001b[0m\u001b[0;34m)\u001b[0m\u001b[0;34m)\u001b[0m\u001b[0;34m\u001b[0m\u001b[0;34m\u001b[0m\u001b[0m\n",
            "\u001b[0;32m/usr/local/lib/python3.10/dist-packages/tensorflow/python/util/tf_export.py\u001b[0m in \u001b[0;36mwrapper\u001b[0;34m(*args, **kwargs)\u001b[0m\n\u001b[1;32m    407\u001b[0m   \u001b[0;32mdef\u001b[0m \u001b[0mwrapper\u001b[0m\u001b[0;34m(\u001b[0m\u001b[0;34m*\u001b[0m\u001b[0margs\u001b[0m\u001b[0;34m,\u001b[0m \u001b[0;34m**\u001b[0m\u001b[0mkwargs\u001b[0m\u001b[0;34m)\u001b[0m\u001b[0;34m:\u001b[0m\u001b[0;34m\u001b[0m\u001b[0;34m\u001b[0m\u001b[0m\n\u001b[1;32m    408\u001b[0m     \u001b[0;32mif\u001b[0m \u001b[0margs\u001b[0m\u001b[0;34m:\u001b[0m\u001b[0;34m\u001b[0m\u001b[0;34m\u001b[0m\u001b[0m\n\u001b[0;32m--> 409\u001b[0;31m       raise TypeError(\n\u001b[0m\u001b[1;32m    410\u001b[0m           \u001b[0;34m'{f} only takes keyword args (possible keys: {kwargs}). '\u001b[0m\u001b[0;34m\u001b[0m\u001b[0;34m\u001b[0m\u001b[0m\n\u001b[1;32m    411\u001b[0m           \u001b[0;34m'Please pass these args as kwargs instead.'\u001b[0m\u001b[0;34m\u001b[0m\u001b[0;34m\u001b[0m\u001b[0m\n",
            "\u001b[0;31mTypeError\u001b[0m: conv2d only takes keyword args (possible keys: ['input', 'filter', 'strides', 'padding', 'use_cudnn_on_gpu', 'explicit_paddings', 'data_format', 'dilations', 'name']). Please pass these args as kwargs instead."
          ]
        }
      ]
    },
    {
      "cell_type": "markdown",
      "source": [
        "Compile Model"
      ],
      "metadata": {
        "id": "9dRVweUCCtMZ"
      }
    },
    {
      "cell_type": "code",
      "source": [
        "cnn_model.compile(optimizer='adam' , loss='sparse_categorical_crossentropy' , metrics=['accuracy'])"
      ],
      "metadata": {
        "id": "KCft5BzcCsr9"
      },
      "execution_count": null,
      "outputs": []
    },
    {
      "cell_type": "markdown",
      "source": [
        "Use Fit"
      ],
      "metadata": {
        "id": "T1fXhpJfDFHa"
      }
    },
    {
      "cell_type": "code",
      "source": [
        "cnn_model.fit(x_train,y_train,validation_data=(validation_data_x,validation_data_y), epochs = 10)"
      ],
      "metadata": {
        "id": "hDy3hBhKDE5h"
      },
      "execution_count": null,
      "outputs": []
    }
  ]
}