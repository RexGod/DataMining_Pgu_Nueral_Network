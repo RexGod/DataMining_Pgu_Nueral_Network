{
 "cells": [
  {
   "cell_type": "code",
   "execution_count": 1,
   "metadata": {},
   "outputs": [],
   "source": [
    "import pandas as pd\n",
    "import numpy as np\n",
    "import matplotlib.pyplot as plt\n",
    "import glob"
   ]
  },
  {
   "attachments": {},
   "cell_type": "markdown",
   "metadata": {},
   "source": [
    "add Path of image-directory"
   ]
  },
  {
   "cell_type": "code",
   "execution_count": 2,
   "metadata": {},
   "outputs": [],
   "source": [
    "pathImages = 'C:/Users/shadmehr/Downloads/Compressed/Subtracted images of CDD-CESM'"
   ]
  },
  {
   "attachments": {},
   "cell_type": "markdown",
   "metadata": {},
   "source": [
    "add path of manual excel file directory"
   ]
  },
  {
   "cell_type": "code",
   "execution_count": 3,
   "metadata": {},
   "outputs": [],
   "source": [
    "pathManual = 'C:/Users/shadmehr/Downloads/Compressed/Radiology manual annotations.xlsx'\n",
    "manualRadio = pd.read_excel(pathManual)"
   ]
  },
  {
   "attachments": {},
   "cell_type": "markdown",
   "metadata": {},
   "source": [
    "rename lable of manual file"
   ]
  },
  {
   "cell_type": "code",
   "execution_count": 4,
   "metadata": {},
   "outputs": [],
   "source": [
    "manualRadio= manualRadio.rename(columns={'Pathology Classification/ Follow up':'classification'})"
   ]
  },
  {
   "attachments": {},
   "cell_type": "markdown",
   "metadata": {},
   "source": [
    "discard Type DM"
   ]
  },
  {
   "cell_type": "code",
   "execution_count": 5,
   "metadata": {},
   "outputs": [],
   "source": [
    "manualRadio = manualRadio[manualRadio['Type']=='CESM']"
   ]
  },
  {
   "cell_type": "code",
   "execution_count": 6,
   "metadata": {},
   "outputs": [
    {
     "data": {
      "text/html": [
       "<div>\n",
       "<style scoped>\n",
       "    .dataframe tbody tr th:only-of-type {\n",
       "        vertical-align: middle;\n",
       "    }\n",
       "\n",
       "    .dataframe tbody tr th {\n",
       "        vertical-align: top;\n",
       "    }\n",
       "\n",
       "    .dataframe thead th {\n",
       "        text-align: right;\n",
       "    }\n",
       "</style>\n",
       "<table border=\"1\" class=\"dataframe\">\n",
       "  <thead>\n",
       "    <tr style=\"text-align: right;\">\n",
       "      <th></th>\n",
       "      <th>Image_name</th>\n",
       "      <th>Patient_ID</th>\n",
       "      <th>Side</th>\n",
       "      <th>Type</th>\n",
       "      <th>Age</th>\n",
       "      <th>Breast density (ACR)</th>\n",
       "      <th>BIRADS</th>\n",
       "      <th>Findings</th>\n",
       "      <th>View</th>\n",
       "      <th>Tags</th>\n",
       "      <th>Machine</th>\n",
       "      <th>classification</th>\n",
       "    </tr>\n",
       "  </thead>\n",
       "  <tbody>\n",
       "    <tr>\n",
       "      <th>1</th>\n",
       "      <td>P1_L_CM_MLO</td>\n",
       "      <td>1</td>\n",
       "      <td>L</td>\n",
       "      <td>CESM</td>\n",
       "      <td>46</td>\n",
       "      <td>_</td>\n",
       "      <td>4</td>\n",
       "      <td>Heterogenous non mass enhancement</td>\n",
       "      <td>MLO</td>\n",
       "      <td>suspicious, non mass</td>\n",
       "      <td>1</td>\n",
       "      <td>Malignant</td>\n",
       "    </tr>\n",
       "    <tr>\n",
       "      <th>4</th>\n",
       "      <td>P2_R_CM_CC</td>\n",
       "      <td>2</td>\n",
       "      <td>R</td>\n",
       "      <td>CESM</td>\n",
       "      <td>31</td>\n",
       "      <td>_</td>\n",
       "      <td>3</td>\n",
       "      <td>Multiple homogenously enhancing  masses</td>\n",
       "      <td>CC</td>\n",
       "      <td>benign, masses, homogenous</td>\n",
       "      <td>2</td>\n",
       "      <td>Benign</td>\n",
       "    </tr>\n",
       "    <tr>\n",
       "      <th>5</th>\n",
       "      <td>P2_R_CM_MLO</td>\n",
       "      <td>2</td>\n",
       "      <td>R</td>\n",
       "      <td>CESM</td>\n",
       "      <td>31</td>\n",
       "      <td>_</td>\n",
       "      <td>3</td>\n",
       "      <td>Multiple homogenously enhancing  masses</td>\n",
       "      <td>MLO</td>\n",
       "      <td>benign, masses, homogenous</td>\n",
       "      <td>2</td>\n",
       "      <td>Benign</td>\n",
       "    </tr>\n",
       "    <tr>\n",
       "      <th>8</th>\n",
       "      <td>P2_L_CM_CC</td>\n",
       "      <td>2</td>\n",
       "      <td>L</td>\n",
       "      <td>CESM</td>\n",
       "      <td>31</td>\n",
       "      <td>_</td>\n",
       "      <td>2</td>\n",
       "      <td>Flap with no enhancement</td>\n",
       "      <td>CC</td>\n",
       "      <td>flap, benign</td>\n",
       "      <td>2</td>\n",
       "      <td>Benign</td>\n",
       "    </tr>\n",
       "    <tr>\n",
       "      <th>9</th>\n",
       "      <td>P2_L_CM_MLO</td>\n",
       "      <td>2</td>\n",
       "      <td>L</td>\n",
       "      <td>CESM</td>\n",
       "      <td>31</td>\n",
       "      <td>_</td>\n",
       "      <td>2</td>\n",
       "      <td>Flap with no enhancement</td>\n",
       "      <td>MLO</td>\n",
       "      <td>flap, benign</td>\n",
       "      <td>2</td>\n",
       "      <td>Benign</td>\n",
       "    </tr>\n",
       "  </tbody>\n",
       "</table>\n",
       "</div>"
      ],
      "text/plain": [
       "    Image_name  Patient_ID Side  Type  Age Breast density (ACR) BIRADS   \n",
       "1  P1_L_CM_MLO           1    L  CESM   46                    _      4  \\\n",
       "4   P2_R_CM_CC           2    R  CESM   31                    _      3   \n",
       "5  P2_R_CM_MLO           2    R  CESM   31                    _      3   \n",
       "8   P2_L_CM_CC           2    L  CESM   31                    _      2   \n",
       "9  P2_L_CM_MLO           2    L  CESM   31                    _      2   \n",
       "\n",
       "                                   Findings View                        Tags   \n",
       "1        Heterogenous non mass enhancement   MLO        suspicious, non mass  \\\n",
       "4  Multiple homogenously enhancing  masses    CC  benign, masses, homogenous   \n",
       "5  Multiple homogenously enhancing  masses   MLO  benign, masses, homogenous   \n",
       "8                  Flap with no enhancement   CC                flap, benign   \n",
       "9                  Flap with no enhancement  MLO                flap, benign   \n",
       "\n",
       "   Machine classification  \n",
       "1        1      Malignant  \n",
       "4        2         Benign  \n",
       "5        2         Benign  \n",
       "8        2         Benign  \n",
       "9        2         Benign  "
      ]
     },
     "execution_count": 6,
     "metadata": {},
     "output_type": "execute_result"
    }
   ],
   "source": [
    "manualRadio.head()"
   ]
  },
  {
   "attachments": {},
   "cell_type": "markdown",
   "metadata": {},
   "source": [
    "load Images"
   ]
  },
  {
   "cell_type": "code",
   "execution_count": 7,
   "metadata": {},
   "outputs": [],
   "source": [
    "import os\n",
    "images = os.listdir(pathImages)\n",
    "loaded_images = []\n",
    "filename_txt = []\n",
    "for filename in images:\n",
    "    if filename.endswith('.jpg') or filename.endswith('.png'):\n",
    "        image_list = plt.imread(os.path.join(pathImages, filename))\n",
    "        loaded_images.append(image_list)\n",
    "        filename_txt.append(filename)"
   ]
  },
  {
   "attachments": {},
   "cell_type": "markdown",
   "metadata": {},
   "source": [
    "to access to manual file with name of image"
   ]
  },
  {
   "cell_type": "code",
   "execution_count": 8,
   "metadata": {},
   "outputs": [],
   "source": [
    "image_name =[]\n",
    "for i in range(len(filename_txt)):\n",
    "    image_name.append(filename_txt[i].replace('.jpg',''))"
   ]
  },
  {
   "attachments": {},
   "cell_type": "markdown",
   "metadata": {},
   "source": [
    "initialize size of validation_data and test_data"
   ]
  },
  {
   "cell_type": "code",
   "execution_count": 9,
   "metadata": {},
   "outputs": [],
   "source": [
    "validation_data_size = int(len(loaded_images)*0.12)\n",
    "test_data_size = int(len(loaded_images)*0.13)"
   ]
  },
  {
   "cell_type": "code",
   "execution_count": 10,
   "metadata": {},
   "outputs": [],
   "source": [
    "random_select = np.random.choice(len(loaded_images), size=validation_data_size, replace=False)"
   ]
  },
  {
   "attachments": {},
   "cell_type": "markdown",
   "metadata": {},
   "source": [
    "set Validation data"
   ]
  },
  {
   "cell_type": "code",
   "execution_count": 11,
   "metadata": {},
   "outputs": [
    {
     "name": "stderr",
     "output_type": "stream",
     "text": [
      "C:\\Users\\shadmehr\\AppData\\Local\\Temp\\ipykernel_7488\\3989429975.py:1: VisibleDeprecationWarning: Creating an ndarray from ragged nested sequences (which is a list-or-tuple of lists-or-tuples-or ndarrays with different lengths or shapes) is deprecated. If you meant to do this, you must specify 'dtype=object' when creating the ndarray.\n",
      "  validation_data_x = np.array(loaded_images)[random_select]\n",
      "C:\\Users\\shadmehr\\AppData\\Local\\Packages\\PythonSoftwareFoundation.Python.3.11_qbz5n2kfra8p0\\LocalCache\\local-packages\\Python311\\site-packages\\numpy\\lib\\function_base.py:5071: VisibleDeprecationWarning: Creating an ndarray from ragged nested sequences (which is a list-or-tuple of lists-or-tuples-or ndarrays with different lengths or shapes) is deprecated. If you meant to do this, you must specify 'dtype=object' when creating the ndarray.\n",
      "  arr = asarray(arr)\n"
     ]
    }
   ],
   "source": [
    "validation_data_x = np.array(loaded_images)[random_select]\n",
    "validation_data_y = manualRadio.iloc[random_select]\n",
    "loaded_images = np.delete(loaded_images, random_select, axis=0)\n",
    "manualRadio=manualRadio.drop(manualRadio.index[random_select])"
   ]
  },
  {
   "cell_type": "code",
   "execution_count": 12,
   "metadata": {},
   "outputs": [
    {
     "data": {
      "text/plain": [
       "Image_name              120\n",
       "Patient_ID              120\n",
       "Side                    120\n",
       "Type                    120\n",
       "Age                     120\n",
       "Breast density (ACR)    120\n",
       "BIRADS                  120\n",
       "Findings                120\n",
       "View                    120\n",
       "Tags                    120\n",
       "Machine                 120\n",
       "classification          120\n",
       "dtype: int64"
      ]
     },
     "execution_count": 12,
     "metadata": {},
     "output_type": "execute_result"
    }
   ],
   "source": [
    "validation_data_y.count()"
   ]
  },
  {
   "cell_type": "code",
   "execution_count": 13,
   "metadata": {},
   "outputs": [],
   "source": [
    "random_select = np.random.choice(len(loaded_images), size=test_data_size, replace=False)"
   ]
  },
  {
   "attachments": {},
   "cell_type": "markdown",
   "metadata": {},
   "source": [
    "set test_data"
   ]
  },
  {
   "cell_type": "code",
   "execution_count": 14,
   "metadata": {},
   "outputs": [],
   "source": [
    "test_data_x = np.array(loaded_images)[random_select]\n",
    "test_data_y = manualRadio.iloc[random_select]\n",
    "loaded_images = np.delete(loaded_images, random_select, axis=0)\n",
    "manualRadio=manualRadio.drop(manualRadio.index[random_select])"
   ]
  },
  {
   "cell_type": "code",
   "execution_count": 15,
   "metadata": {},
   "outputs": [
    {
     "data": {
      "text/plain": [
       "Image_name              130\n",
       "Patient_ID              130\n",
       "Side                    130\n",
       "Type                    130\n",
       "Age                     130\n",
       "Breast density (ACR)    130\n",
       "BIRADS                  130\n",
       "Findings                130\n",
       "View                    130\n",
       "Tags                    130\n",
       "Machine                 130\n",
       "classification          130\n",
       "dtype: int64"
      ]
     },
     "execution_count": 15,
     "metadata": {},
     "output_type": "execute_result"
    }
   ],
   "source": [
    "test_data_y.count()"
   ]
  },
  {
   "attachments": {},
   "cell_type": "markdown",
   "metadata": {},
   "source": [
    "set train_data"
   ]
  },
  {
   "cell_type": "code",
   "execution_count": 16,
   "metadata": {},
   "outputs": [],
   "source": [
    "train_data_x = np.array(loaded_images)\n",
    "train_data_y = manualRadio[[\"Image_name\" , \"classification\"]]"
   ]
  },
  {
   "cell_type": "code",
   "execution_count": 17,
   "metadata": {},
   "outputs": [
    {
     "data": {
      "text/plain": [
       "753"
      ]
     },
     "execution_count": 17,
     "metadata": {},
     "output_type": "execute_result"
    }
   ],
   "source": [
    "len(train_data_x)"
   ]
  },
  {
   "cell_type": "code",
   "execution_count": 18,
   "metadata": {},
   "outputs": [
    {
     "data": {
      "text/plain": [
       "Image_name        753\n",
       "classification    753\n",
       "dtype: int64"
      ]
     },
     "execution_count": 18,
     "metadata": {},
     "output_type": "execute_result"
    }
   ],
   "source": [
    "train_data_y.count()"
   ]
  },
  {
   "cell_type": "code",
   "execution_count": null,
   "metadata": {},
   "outputs": [],
   "source": []
  }
 ],
 "metadata": {
  "kernelspec": {
   "display_name": "base",
   "language": "python",
   "name": "python3"
  },
  "language_info": {
   "codemirror_mode": {
    "name": "ipython",
    "version": 3
   },
   "file_extension": ".py",
   "mimetype": "text/x-python",
   "name": "python",
   "nbconvert_exporter": "python",
   "pygments_lexer": "ipython3",
   "version": "3.11.4"
  },
  "orig_nbformat": 4
 },
 "nbformat": 4,
 "nbformat_minor": 2
}
